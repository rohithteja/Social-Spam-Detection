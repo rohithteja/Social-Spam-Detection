{
 "cells": [
  {
   "cell_type": "code",
   "execution_count": null,
   "metadata": {
    "id": "Qw9QP4taC4yJ"
   },
   "outputs": [],
   "source": [
    "import pandas as pd\n",
    "from sklearn.model_selection import GridSearchCV, StratifiedKFold, train_test_split\n",
    "import numpy as np\n",
    "from sklearn.svm import SVC\n",
    "from sklearn.datasets import make_classification\n",
    "from sklearn.feature_selection import SelectKBest\n",
    "from sklearn.feature_selection import f_classif\n",
    "from sklearn.model_selection import cross_val_score\n",
    "from sklearn.preprocessing import StandardScaler\n",
    "from sklearn.metrics import accuracy_score, f1_score, classification_report\n",
    "from sklearn.preprocessing import MinMaxScaler\n",
    "from sklearn.decomposition import PCA\n"
   ]
  },
  {
   "cell_type": "code",
   "execution_count": null,
   "metadata": {
    "id": "3pbjRi6MC40m"
   },
   "outputs": [],
   "source": [
    "# read data and merge the train and test with features\n",
    "\n",
    "coded_id = pd.read_csv(\"users/coded_ids.csv\")\n",
    "features = pd.read_csv(\"users_features/features.csv\")\n",
    "users = pd.merge(features, coded_id, on='user_id', how='left')\n",
    "\n",
    "train = pd.read_csv(\"users/coded_ids_labels_train.csv\")\n",
    "test = pd.read_csv(\"users/coded_ids_labels_test.csv\")\n",
    "train = pd.merge(users, train, on='coded_id', how='right')\n",
    "test = pd.merge(users, test, on='coded_id', how='right')"
   ]
  },
  {
   "cell_type": "code",
   "execution_count": null,
   "metadata": {
    "colab": {
     "base_uri": "https://localhost:8080/"
    },
    "executionInfo": {
     "elapsed": 628,
     "status": "ok",
     "timestamp": 1611474581580,
     "user": {
      "displayName": "Rohith Teja",
      "photoUrl": "https://lh3.googleusercontent.com/-nt8x4joQmgY/AAAAAAAAAAI/AAAAAAAAAvg/AbgIIUozOq0/s64/photo.jpg",
      "userId": "01155222072916958278"
     },
     "user_tz": -60
    },
    "id": "xNKWnDwSqgB7",
    "outputId": "0fe5d730-d7ef-44e1-9eec-653520f0ff24"
   },
   "outputs": [
    {
     "data": {
      "text/plain": [
       "(686, 125)"
      ]
     },
     "execution_count": 21,
     "metadata": {
      "tags": []
     },
     "output_type": "execute_result"
    }
   ],
   "source": [
    "train.shape"
   ]
  },
  {
   "cell_type": "code",
   "execution_count": null,
   "metadata": {
    "colab": {
     "base_uri": "https://localhost:8080/"
    },
    "executionInfo": {
     "elapsed": 615,
     "status": "ok",
     "timestamp": 1611474583715,
     "user": {
      "displayName": "Rohith Teja",
      "photoUrl": "https://lh3.googleusercontent.com/-nt8x4joQmgY/AAAAAAAAAAI/AAAAAAAAAvg/AbgIIUozOq0/s64/photo.jpg",
      "userId": "01155222072916958278"
     },
     "user_tz": -60
    },
    "id": "OIzQr7e3qkJ8",
    "outputId": "de7db3eb-34b8-4d43-cbcb-88df9c19eedf"
   },
   "outputs": [
    {
     "data": {
      "text/plain": [
       "(81, 124)"
      ]
     },
     "execution_count": 22,
     "metadata": {
      "tags": []
     },
     "output_type": "execute_result"
    }
   ],
   "source": [
    "test.shape"
   ]
  },
  {
   "cell_type": "code",
   "execution_count": null,
   "metadata": {
    "id": "NDFx7KGNC45G"
   },
   "outputs": [],
   "source": [
    "#cleaning train dataset\n",
    "\n",
    "#remove columns with na values\n",
    "nacolumns = train.columns[train.isna().any()].tolist()\n",
    "train.drop(columns = nacolumns,inplace=True)\n",
    "train.dropna(axis=0,inplace=True)\n",
    "\n",
    "#remove unwanted category columns like time and IDs\n",
    "unwanted = [\"default_profile\",\"default_profile_image\",\"avg_intertweet_times\",\"date_newest_tweet\",\"lang\",\"min_intertweet_times\",\"std_nb_symbols_per_tweet\",\"std_nb_symbols_per_word_in_the_tweet\",\"date_oldest_tweet\",\"max_intertweet_times\",\"max_nb_symbols_per_tweet\",\"max_nb_symbols_per_word_in_the_tweet\",\"std_intertweet_times\",\"user_id\",\"coded_id\"]\n",
    "train.drop(columns=unwanted,inplace=True)\n",
    "\n",
    "#remove columns like \n",
    "allzero_cols = list(train.loc[:,(train==0).all()].columns)\n",
    "train.drop(columns=allzero_cols,inplace=True)\n"
   ]
  },
  {
   "cell_type": "code",
   "execution_count": null,
   "metadata": {
    "id": "VaneEjeSXZSY"
   },
   "outputs": [],
   "source": [
    "#cleaning test set\n",
    "\n",
    "#remove columns with na values\n",
    "nacolumns = test.columns[test.isna().any()].tolist()\n",
    "test.drop(columns = nacolumns,inplace=True)\n",
    "test.dropna(axis=0,inplace=True)\n",
    "\n",
    "#remove unwanted category columns like time and IDs\n",
    "unwanted = [\"default_profile\",\"default_profile_image\",\"avg_intertweet_times\",\"date_newest_tweet\",\"lang\",\"min_intertweet_times\",\"std_nb_symbols_per_tweet\",\"std_nb_symbols_per_word_in_the_tweet\",\"date_oldest_tweet\",\"max_intertweet_times\",\"max_nb_symbols_per_tweet\",\"max_nb_symbols_per_word_in_the_tweet\",\"std_intertweet_times\",\"user_id\",\"coded_id\"]\n",
    "test.drop(columns=unwanted,inplace=True)\n",
    "\n",
    "#remove columns like \n",
    "allzero_cols = list(test.loc[:,(test==0).all()].columns)\n",
    "test.drop(columns=allzero_cols,inplace=True)\n"
   ]
  },
  {
   "cell_type": "code",
   "execution_count": null,
   "metadata": {
    "id": "wUteNoNdPD1l"
   },
   "outputs": [],
   "source": [
    "#split data into x features and labels\n",
    "x = train.iloc[:,:124]\n",
    "\n",
    "#min max scaling for PCA\n",
    "scaler = MinMaxScaler()\n",
    "data = scaler.fit_transform(x)\n",
    "\n",
    "#PCA\n",
    "pca = PCA(n_components = 0.95) #using 0.95% variance\n",
    "pca.fit(data)\n",
    "x = pca.transform(data)\n",
    "test = scaler.fit_transform(test)\n",
    "\n",
    "y = train.label"
   ]
  },
  {
   "cell_type": "code",
   "execution_count": null,
   "metadata": {
    "colab": {
     "base_uri": "https://localhost:8080/"
    },
    "executionInfo": {
     "elapsed": 537,
     "status": "ok",
     "timestamp": 1611601502438,
     "user": {
      "displayName": "Rohith Teja",
      "photoUrl": "https://lh3.googleusercontent.com/-nt8x4joQmgY/AAAAAAAAAAI/AAAAAAAAAvg/AbgIIUozOq0/s64/photo.jpg",
      "userId": "01155222072916958278"
     },
     "user_tz": -60
    },
    "id": "75ZJvu9BOIax",
    "outputId": "e4aaaeae-18d2-41b5-e2d6-15c593782c0f"
   },
   "outputs": [
    {
     "data": {
      "text/plain": [
       "(686, 45)"
      ]
     },
     "execution_count": 10,
     "metadata": {
      "tags": []
     },
     "output_type": "execute_result"
    }
   ],
   "source": [
    "x.shape"
   ]
  },
  {
   "cell_type": "code",
   "execution_count": null,
   "metadata": {
    "colab": {
     "base_uri": "https://localhost:8080/"
    },
    "executionInfo": {
     "elapsed": 544,
     "status": "ok",
     "timestamp": 1611487560181,
     "user": {
      "displayName": "Rohith Teja",
      "photoUrl": "https://lh3.googleusercontent.com/-nt8x4joQmgY/AAAAAAAAAAI/AAAAAAAAAvg/AbgIIUozOq0/s64/photo.jpg",
      "userId": "01155222072916958278"
     },
     "user_tz": -60
    },
    "id": "rbz7_cTFxjib",
    "outputId": "8eb1b456-2dc6-497c-a46b-9521c77413da"
   },
   "outputs": [
    {
     "data": {
      "text/plain": [
       "0    568\n",
       "1    118\n",
       "Name: label, dtype: int64"
      ]
     },
     "execution_count": 76,
     "metadata": {
      "tags": []
     },
     "output_type": "execute_result"
    }
   ],
   "source": [
    "y.value_counts()"
   ]
  },
  {
   "cell_type": "code",
   "execution_count": null,
   "metadata": {
    "id": "1Pr82Q34PGIe"
   },
   "outputs": [],
   "source": [
    "#train test split\n",
    "x_train, x_test, y_train, y_test = train_test_split(x,y ,stratify=y, test_size=0.15,random_state=1)"
   ]
  },
  {
   "cell_type": "code",
   "execution_count": null,
   "metadata": {
    "id": "_b7DQKoDkQtL"
   },
   "outputs": [],
   "source": [
    "def grid_search(model,params):\n",
    "  skf = StratifiedKFold(n_splits=10)\n",
    "  gs = GridSearchCV(model, cv=skf, param_grid=params, return_train_score=True)\n",
    "  gs.fit(x_train, y_train)\n",
    "  print(\"best params = \",gs.best_params_)\n",
    "  print(\"best score =\",gs.best_score_)"
   ]
  },
  {
   "cell_type": "code",
   "execution_count": null,
   "metadata": {
    "colab": {
     "base_uri": "https://localhost:8080/"
    },
    "executionInfo": {
     "elapsed": 542,
     "status": "ok",
     "timestamp": 1611601591115,
     "user": {
      "displayName": "Rohith Teja",
      "photoUrl": "https://lh3.googleusercontent.com/-nt8x4joQmgY/AAAAAAAAAAI/AAAAAAAAAvg/AbgIIUozOq0/s64/photo.jpg",
      "userId": "01155222072916958278"
     },
     "user_tz": -60
    },
    "id": "ZGoTTi3DfzXt",
    "outputId": "2c5c1127-5ad0-41af-c77c-88593a37bbf9"
   },
   "outputs": [
    {
     "name": "stdout",
     "output_type": "stream",
     "text": [
      "best params =  {'var_smoothing': 0.01}\n",
      "best score = 0.8764465225014613\n"
     ]
    }
   ],
   "source": [
    "#naives bayes\n",
    "from sklearn.naive_bayes import GaussianNB\n",
    "\n",
    "model = GaussianNB()\n",
    "params = {\"var_smoothing\":[1,0.1,1e-2]}\n",
    "\n",
    "grid_search(model,params)"
   ]
  },
  {
   "cell_type": "code",
   "execution_count": null,
   "metadata": {
    "colab": {
     "base_uri": "https://localhost:8080/"
    },
    "executionInfo": {
     "elapsed": 1074,
     "status": "ok",
     "timestamp": 1611601597430,
     "user": {
      "displayName": "Rohith Teja",
      "photoUrl": "https://lh3.googleusercontent.com/-nt8x4joQmgY/AAAAAAAAAAI/AAAAAAAAAvg/AbgIIUozOq0/s64/photo.jpg",
      "userId": "01155222072916958278"
     },
     "user_tz": -60
    },
    "id": "W51I8XKSfzcj",
    "outputId": "83d2e1d5-c0ae-4c1f-93d0-13e70e062f3a"
   },
   "outputs": [
    {
     "name": "stdout",
     "output_type": "stream",
     "text": [
      "Model train accuracy score: 0.8816\n",
      "              precision    recall  f1-score   support\n",
      "\n",
      "           0       0.95      0.98      0.97        85\n",
      "           1       0.88      0.78      0.82        18\n",
      "\n",
      "    accuracy                           0.94       103\n",
      "   macro avg       0.91      0.88      0.89       103\n",
      "weighted avg       0.94      0.94      0.94       103\n",
      "\n"
     ]
    }
   ],
   "source": [
    "#naives bayes test\n",
    "model = GaussianNB(var_smoothing=0.01)\n",
    "model.fit(x_train, y_train)\n",
    "y_pred_train = model.predict(x_train)\n",
    "y_pred_test = model.predict(x_test)\n",
    "print('Model train accuracy score: {0:0.4f}'. format(accuracy_score(y_train, y_pred_train)))\n",
    "print(classification_report(y_test, y_pred_test))"
   ]
  },
  {
   "cell_type": "code",
   "execution_count": null,
   "metadata": {
    "colab": {
     "base_uri": "https://localhost:8080/"
    },
    "executionInfo": {
     "elapsed": 8521,
     "status": "ok",
     "timestamp": 1611601609254,
     "user": {
      "displayName": "Rohith Teja",
      "photoUrl": "https://lh3.googleusercontent.com/-nt8x4joQmgY/AAAAAAAAAAI/AAAAAAAAAvg/AbgIIUozOq0/s64/photo.jpg",
      "userId": "01155222072916958278"
     },
     "user_tz": -60
    },
    "id": "jX_BENgXk_L7",
    "outputId": "74899c9a-4908-4466-8008-a68946051157"
   },
   "outputs": [
    {
     "name": "stdout",
     "output_type": "stream",
     "text": [
      "best params =  {'n_neighbors': 3}\n",
      "best score = 0.9554354178842781\n"
     ]
    }
   ],
   "source": [
    "#knn\n",
    "\n",
    "from sklearn.neighbors import KNeighborsClassifier\n",
    "model = KNeighborsClassifier()\n",
    "params = {\"n_neighbors\":[i for i in range(1,20)]}\n",
    "\n",
    "grid_search(model,params)"
   ]
  },
  {
   "cell_type": "code",
   "execution_count": null,
   "metadata": {
    "colab": {
     "base_uri": "https://localhost:8080/"
    },
    "executionInfo": {
     "elapsed": 525,
     "status": "ok",
     "timestamp": 1611601613281,
     "user": {
      "displayName": "Rohith Teja",
      "photoUrl": "https://lh3.googleusercontent.com/-nt8x4joQmgY/AAAAAAAAAAI/AAAAAAAAAvg/AbgIIUozOq0/s64/photo.jpg",
      "userId": "01155222072916958278"
     },
     "user_tz": -60
    },
    "id": "PBJ4-7YTk_OK",
    "outputId": "8003a56d-48c3-464c-bba4-4231787e14ca"
   },
   "outputs": [
    {
     "name": "stdout",
     "output_type": "stream",
     "text": [
      "Model train accuracy score: 0.9708\n",
      "              precision    recall  f1-score   support\n",
      "\n",
      "           0       0.97      0.99      0.98        85\n",
      "           1       0.94      0.83      0.88        18\n",
      "\n",
      "    accuracy                           0.96       103\n",
      "   macro avg       0.95      0.91      0.93       103\n",
      "weighted avg       0.96      0.96      0.96       103\n",
      "\n"
     ]
    }
   ],
   "source": [
    "#knn test\n",
    "\n",
    "model = KNeighborsClassifier(n_neighbors=3)\n",
    "model.fit(x_train, y_train)\n",
    "y_pred_train = model.predict(x_train)\n",
    "y_pred_test = model.predict(x_test)\n",
    "print('Model train accuracy score: {0:0.4f}'. format(accuracy_score(y_train, y_pred_train)))\n",
    "print(classification_report(y_test, y_pred_test))"
   ]
  },
  {
   "cell_type": "code",
   "execution_count": null,
   "metadata": {
    "colab": {
     "base_uri": "https://localhost:8080/"
    },
    "executionInfo": {
     "elapsed": 2371,
     "status": "ok",
     "timestamp": 1611601617888,
     "user": {
      "displayName": "Rohith Teja",
      "photoUrl": "https://lh3.googleusercontent.com/-nt8x4joQmgY/AAAAAAAAAAI/AAAAAAAAAvg/AbgIIUozOq0/s64/photo.jpg",
      "userId": "01155222072916958278"
     },
     "user_tz": -60
    },
    "id": "5mEtvEO3k_TH",
    "outputId": "33e11e74-45f3-40c2-e4e2-10597bd54f2b"
   },
   "outputs": [
    {
     "name": "stdout",
     "output_type": "stream",
     "text": [
      "best params =  {'C': 10, 'kernel': 'rbf'}\n",
      "best score = 0.9657510227936879\n"
     ]
    }
   ],
   "source": [
    "#svm\n",
    "\n",
    "from sklearn.svm import SVC\n",
    "\n",
    "model = SVC()\n",
    "params = {\"C\":[0.1,1,10],\n",
    "          \"kernel\":[\"linear\", \"poly\", \"rbf\", \"sigmoid\"]}\n",
    "grid_search(model,params)"
   ]
  },
  {
   "cell_type": "code",
   "execution_count": null,
   "metadata": {
    "colab": {
     "base_uri": "https://localhost:8080/"
    },
    "executionInfo": {
     "elapsed": 526,
     "status": "ok",
     "timestamp": 1611601624368,
     "user": {
      "displayName": "Rohith Teja",
      "photoUrl": "https://lh3.googleusercontent.com/-nt8x4joQmgY/AAAAAAAAAAI/AAAAAAAAAvg/AbgIIUozOq0/s64/photo.jpg",
      "userId": "01155222072916958278"
     },
     "user_tz": -60
    },
    "id": "93ARpqhMk_n6",
    "outputId": "c112a149-92b4-457d-c70d-0a5b247fd36b"
   },
   "outputs": [
    {
     "name": "stdout",
     "output_type": "stream",
     "text": [
      "Model train accuracy score: 1.0000\n",
      "              precision    recall  f1-score   support\n",
      "\n",
      "           0       0.98      1.00      0.99        85\n",
      "           1       1.00      0.89      0.94        18\n",
      "\n",
      "    accuracy                           0.98       103\n",
      "   macro avg       0.99      0.94      0.96       103\n",
      "weighted avg       0.98      0.98      0.98       103\n",
      "\n"
     ]
    }
   ],
   "source": [
    "#svm test\n",
    "\n",
    "model = SVC(C=10,kernel=\"rbf\")\n",
    "model.fit(x_train, y_train)\n",
    "y_pred_train = model.predict(x_train)\n",
    "y_pred_test = model.predict(x_test)\n",
    "print('Model train accuracy score: {0:0.4f}'. format(accuracy_score(y_train, y_pred_train)))\n",
    "print(classification_report(y_test, y_pred_test))"
   ]
  },
  {
   "cell_type": "code",
   "execution_count": null,
   "metadata": {
    "colab": {
     "base_uri": "https://localhost:8080/"
    },
    "executionInfo": {
     "elapsed": 87308,
     "status": "ok",
     "timestamp": 1611601719061,
     "user": {
      "displayName": "Rohith Teja",
      "photoUrl": "https://lh3.googleusercontent.com/-nt8x4joQmgY/AAAAAAAAAAI/AAAAAAAAAvg/AbgIIUozOq0/s64/photo.jpg",
      "userId": "01155222072916958278"
     },
     "user_tz": -60
    },
    "id": "MQHznOyMk_qa",
    "outputId": "01061bb9-d0cc-4dcd-d07a-decbffe9f18a"
   },
   "outputs": [
    {
     "name": "stdout",
     "output_type": "stream",
     "text": [
      "best params =  {'criterion': 'entropy', 'max_depth': 9, 'min_samples_leaf': 3, 'min_samples_split': 8}\n",
      "best score = 0.9400350672121565\n"
     ]
    }
   ],
   "source": [
    "#decision tree\n",
    "from sklearn.tree import DecisionTreeClassifier\n",
    "\n",
    "model = DecisionTreeClassifier()\n",
    "params = {\"criterion\":[\"gini\",\"entropy\"],\n",
    "          \"max_depth\":range(1,10),\n",
    "          \"min_samples_split\":range(2,10),\n",
    "          \"min_samples_leaf\":range(1,5)}\n",
    "grid_search(model,params)"
   ]
  },
  {
   "cell_type": "code",
   "execution_count": null,
   "metadata": {
    "colab": {
     "base_uri": "https://localhost:8080/"
    },
    "executionInfo": {
     "elapsed": 627,
     "status": "ok",
     "timestamp": 1611601903782,
     "user": {
      "displayName": "Rohith Teja",
      "photoUrl": "https://lh3.googleusercontent.com/-nt8x4joQmgY/AAAAAAAAAAI/AAAAAAAAAvg/AbgIIUozOq0/s64/photo.jpg",
      "userId": "01155222072916958278"
     },
     "user_tz": -60
    },
    "id": "_hPPqdiMk_tE",
    "outputId": "4a8a8bed-c0af-415d-842a-1a24476bf4f7"
   },
   "outputs": [
    {
     "name": "stdout",
     "output_type": "stream",
     "text": [
      "Model train accuracy score: 0.9811\n",
      "              precision    recall  f1-score   support\n",
      "\n",
      "           0       0.94      1.00      0.97        85\n",
      "           1       1.00      0.72      0.84        18\n",
      "\n",
      "    accuracy                           0.95       103\n",
      "   macro avg       0.97      0.86      0.91       103\n",
      "weighted avg       0.95      0.95      0.95       103\n",
      "\n"
     ]
    }
   ],
   "source": [
    "#decision tree test\n",
    "\n",
    "model = DecisionTreeClassifier(criterion=\"entropy\",max_depth=9,min_samples_leaf=3,min_samples_split=8)\n",
    "model.fit(x_train, y_train)\n",
    "y_pred_train = model.predict(x_train)\n",
    "y_pred_test = model.predict(x_test)\n",
    "print('Model train accuracy score: {0:0.4f}'. format(accuracy_score(y_train, y_pred_train)))\n",
    "print(classification_report(y_test, y_pred_test))"
   ]
  },
  {
   "cell_type": "code",
   "execution_count": null,
   "metadata": {
    "colab": {
     "base_uri": "https://localhost:8080/"
    },
    "executionInfo": {
     "elapsed": 619896,
     "status": "ok",
     "timestamp": 1611602530017,
     "user": {
      "displayName": "Rohith Teja",
      "photoUrl": "https://lh3.googleusercontent.com/-nt8x4joQmgY/AAAAAAAAAAI/AAAAAAAAAvg/AbgIIUozOq0/s64/photo.jpg",
      "userId": "01155222072916958278"
     },
     "user_tz": -60
    },
    "id": "n8EyNey-k_u5",
    "outputId": "bcbdf1ef-cd6e-4c09-bc2e-abcddc8fd636"
   },
   "outputs": [
    {
     "name": "stdout",
     "output_type": "stream",
     "text": [
      "best params =  {'criterion': 'entropy', 'max_depth': 8, 'max_features': 'sqrt', 'n_estimators': 200}\n",
      "best score = 0.9435125657510227\n"
     ]
    }
   ],
   "source": [
    "#random forest\n",
    "from sklearn.ensemble import RandomForestClassifier\n",
    "model = RandomForestClassifier()\n",
    "params = { \n",
    "    'n_estimators': [200, 500],\n",
    "    'max_features': ['auto', 'sqrt', 'log2'],\n",
    "    'max_depth' : [4,5,6,7,8],\n",
    "    'criterion' :['gini', 'entropy']\n",
    "}\n",
    "grid_search(model,params)"
   ]
  },
  {
   "cell_type": "code",
   "execution_count": null,
   "metadata": {
    "colab": {
     "base_uri": "https://localhost:8080/"
    },
    "executionInfo": {
     "elapsed": 1427,
     "status": "ok",
     "timestamp": 1611602613496,
     "user": {
      "displayName": "Rohith Teja",
      "photoUrl": "https://lh3.googleusercontent.com/-nt8x4joQmgY/AAAAAAAAAAI/AAAAAAAAAvg/AbgIIUozOq0/s64/photo.jpg",
      "userId": "01155222072916958278"
     },
     "user_tz": -60
    },
    "id": "fLbaPIsXfzev",
    "outputId": "95c14b7d-3db8-4053-a816-993f1a8f4044"
   },
   "outputs": [
    {
     "name": "stdout",
     "output_type": "stream",
     "text": [
      "Model train accuracy score: 1.0000\n",
      "              precision    recall  f1-score   support\n",
      "\n",
      "           0       0.97      1.00      0.98        85\n",
      "           1       1.00      0.83      0.91        18\n",
      "\n",
      "    accuracy                           0.97       103\n",
      "   macro avg       0.98      0.92      0.95       103\n",
      "weighted avg       0.97      0.97      0.97       103\n",
      "\n"
     ]
    }
   ],
   "source": [
    "#random forest test\n",
    "\n",
    "model = RandomForestClassifier(criterion=\"entropy\",max_depth=8,max_features=\"sqrt\",n_estimators=200)\n",
    "model.fit(x_train, y_train)\n",
    "y_pred_train = model.predict(x_train)\n",
    "y_pred_test = model.predict(x_test)\n",
    "print('Model train accuracy score: {0:0.4f}'. format(accuracy_score(y_train, y_pred_train)))\n",
    "print(classification_report(y_test, y_pred_test))"
   ]
  },
  {
   "cell_type": "code",
   "execution_count": null,
   "metadata": {
    "colab": {
     "base_uri": "https://localhost:8080/"
    },
    "executionInfo": {
     "elapsed": 4958,
     "status": "ok",
     "timestamp": 1611602688291,
     "user": {
      "displayName": "Rohith Teja",
      "photoUrl": "https://lh3.googleusercontent.com/-nt8x4joQmgY/AAAAAAAAAAI/AAAAAAAAAvg/AbgIIUozOq0/s64/photo.jpg",
      "userId": "01155222072916958278"
     },
     "user_tz": -60
    },
    "id": "EvQ7G1xPrhkc",
    "outputId": "1d40b514-4bbe-4ed7-a9f1-6307e5436cd9"
   },
   "outputs": [
    {
     "name": "stdout",
     "output_type": "stream",
     "text": [
      "Epoch 1/50\n",
      "59/59 [==============================] - 1s 1ms/step - loss: 0.6288 - accuracy: 0.7680\n",
      "Epoch 2/50\n",
      "59/59 [==============================] - 0s 1ms/step - loss: 0.4532 - accuracy: 0.8928\n",
      "Epoch 3/50\n",
      "59/59 [==============================] - 0s 1ms/step - loss: 0.3341 - accuracy: 0.9234\n",
      "Epoch 4/50\n",
      "59/59 [==============================] - 0s 1ms/step - loss: 0.2651 - accuracy: 0.9359\n",
      "Epoch 5/50\n",
      "59/59 [==============================] - 0s 1ms/step - loss: 0.1915 - accuracy: 0.9441\n",
      "Epoch 6/50\n",
      "59/59 [==============================] - 0s 1ms/step - loss: 0.1635 - accuracy: 0.9531\n",
      "Epoch 7/50\n",
      "59/59 [==============================] - 0s 1ms/step - loss: 0.1290 - accuracy: 0.9652\n",
      "Epoch 8/50\n",
      "59/59 [==============================] - 0s 1ms/step - loss: 0.1317 - accuracy: 0.9526\n",
      "Epoch 9/50\n",
      "59/59 [==============================] - 0s 1ms/step - loss: 0.1111 - accuracy: 0.9731\n",
      "Epoch 10/50\n",
      "59/59 [==============================] - 0s 1ms/step - loss: 0.0921 - accuracy: 0.9778\n",
      "Epoch 11/50\n",
      "59/59 [==============================] - 0s 1ms/step - loss: 0.0997 - accuracy: 0.9736\n",
      "Epoch 12/50\n",
      "59/59 [==============================] - 0s 1ms/step - loss: 0.0998 - accuracy: 0.9675\n",
      "Epoch 13/50\n",
      "59/59 [==============================] - 0s 1ms/step - loss: 0.0805 - accuracy: 0.9740\n",
      "Epoch 14/50\n",
      "59/59 [==============================] - 0s 1ms/step - loss: 0.0714 - accuracy: 0.9871\n",
      "Epoch 15/50\n",
      "59/59 [==============================] - 0s 1ms/step - loss: 0.0718 - accuracy: 0.9807\n",
      "Epoch 16/50\n",
      "59/59 [==============================] - 0s 1ms/step - loss: 0.0641 - accuracy: 0.9813\n",
      "Epoch 17/50\n",
      "59/59 [==============================] - 0s 1ms/step - loss: 0.0628 - accuracy: 0.9895\n",
      "Epoch 18/50\n",
      "59/59 [==============================] - 0s 1ms/step - loss: 0.0579 - accuracy: 0.9855\n",
      "Epoch 19/50\n",
      "59/59 [==============================] - 0s 1ms/step - loss: 0.0518 - accuracy: 0.9933\n",
      "Epoch 20/50\n",
      "59/59 [==============================] - 0s 1ms/step - loss: 0.0549 - accuracy: 0.9826\n",
      "Epoch 21/50\n",
      "59/59 [==============================] - 0s 1ms/step - loss: 0.0503 - accuracy: 0.9858\n",
      "Epoch 22/50\n",
      "59/59 [==============================] - 0s 1ms/step - loss: 0.0531 - accuracy: 0.9887\n",
      "Epoch 23/50\n",
      "59/59 [==============================] - 0s 1ms/step - loss: 0.0401 - accuracy: 0.9949\n",
      "Epoch 24/50\n",
      "59/59 [==============================] - 0s 1ms/step - loss: 0.0484 - accuracy: 0.9864\n",
      "Epoch 25/50\n",
      "59/59 [==============================] - 0s 1ms/step - loss: 0.0368 - accuracy: 0.9924\n",
      "Epoch 26/50\n",
      "59/59 [==============================] - 0s 1ms/step - loss: 0.0415 - accuracy: 0.9875\n",
      "Epoch 27/50\n",
      "59/59 [==============================] - 0s 1ms/step - loss: 0.0449 - accuracy: 0.9818\n",
      "Epoch 28/50\n",
      "59/59 [==============================] - 0s 1ms/step - loss: 0.0391 - accuracy: 0.9912\n",
      "Epoch 29/50\n",
      "59/59 [==============================] - 0s 1ms/step - loss: 0.0303 - accuracy: 0.9930\n",
      "Epoch 30/50\n",
      "59/59 [==============================] - 0s 1ms/step - loss: 0.0289 - accuracy: 0.9954\n",
      "Epoch 31/50\n",
      "59/59 [==============================] - 0s 1ms/step - loss: 0.0333 - accuracy: 0.9917\n",
      "Epoch 32/50\n",
      "59/59 [==============================] - 0s 1ms/step - loss: 0.0327 - accuracy: 0.9970\n",
      "Epoch 33/50\n",
      "59/59 [==============================] - 0s 1ms/step - loss: 0.0285 - accuracy: 0.9999\n",
      "Epoch 34/50\n",
      "59/59 [==============================] - 0s 1ms/step - loss: 0.0252 - accuracy: 0.9958\n",
      "Epoch 35/50\n",
      "59/59 [==============================] - 0s 1ms/step - loss: 0.0244 - accuracy: 0.9970\n",
      "Epoch 36/50\n",
      "59/59 [==============================] - 0s 1ms/step - loss: 0.0296 - accuracy: 0.9940\n",
      "Epoch 37/50\n",
      "59/59 [==============================] - 0s 1ms/step - loss: 0.0242 - accuracy: 0.9968\n",
      "Epoch 38/50\n",
      "59/59 [==============================] - 0s 1ms/step - loss: 0.0216 - accuracy: 0.9992\n",
      "Epoch 39/50\n",
      "59/59 [==============================] - 0s 1ms/step - loss: 0.0223 - accuracy: 0.9963\n",
      "Epoch 40/50\n",
      "59/59 [==============================] - 0s 1ms/step - loss: 0.0199 - accuracy: 0.9957\n",
      "Epoch 41/50\n",
      "59/59 [==============================] - 0s 1ms/step - loss: 0.0230 - accuracy: 0.9985\n",
      "Epoch 42/50\n",
      "59/59 [==============================] - 0s 1ms/step - loss: 0.0191 - accuracy: 0.9971\n",
      "Epoch 43/50\n",
      "59/59 [==============================] - 0s 1ms/step - loss: 0.0173 - accuracy: 0.9990\n",
      "Epoch 44/50\n",
      "59/59 [==============================] - 0s 1ms/step - loss: 0.0202 - accuracy: 0.9999\n",
      "Epoch 45/50\n",
      "59/59 [==============================] - 0s 1ms/step - loss: 0.0187 - accuracy: 1.0000\n",
      "Epoch 46/50\n",
      "59/59 [==============================] - 0s 1ms/step - loss: 0.0174 - accuracy: 1.0000\n",
      "Epoch 47/50\n",
      "59/59 [==============================] - 0s 1ms/step - loss: 0.0159 - accuracy: 1.0000\n",
      "Epoch 48/50\n",
      "59/59 [==============================] - 0s 1ms/step - loss: 0.0151 - accuracy: 1.0000\n",
      "Epoch 49/50\n",
      "59/59 [==============================] - 0s 1ms/step - loss: 0.0162 - accuracy: 1.0000\n",
      "Epoch 50/50\n",
      "59/59 [==============================] - 0s 1ms/step - loss: 0.0122 - accuracy: 1.0000\n"
     ]
    },
    {
     "data": {
      "text/plain": [
       "<tensorflow.python.keras.callbacks.History at 0x7fe958a657f0>"
      ]
     },
     "execution_count": 41,
     "metadata": {
      "tags": []
     },
     "output_type": "execute_result"
    }
   ],
   "source": [
    "#MLP\n",
    "from keras.models import Sequential\n",
    "from keras.layers import Dense\n",
    "from keras.wrappers.scikit_learn import KerasClassifier\n",
    "from sklearn.preprocessing import LabelEncoder\n",
    "\n",
    "model = Sequential()\n",
    "model.add(Dense(50, input_dim=45, activation='relu'))\n",
    "model.add(Dense(1, activation='sigmoid'))\n",
    "\n",
    "model.compile(loss='binary_crossentropy', optimizer='adam', metrics=['accuracy'])\n",
    "model.fit(x_train, y_train, epochs=50, batch_size=10)"
   ]
  },
  {
   "cell_type": "code",
   "execution_count": null,
   "metadata": {
    "colab": {
     "base_uri": "https://localhost:8080/"
    },
    "executionInfo": {
     "elapsed": 543,
     "status": "ok",
     "timestamp": 1611602692426,
     "user": {
      "displayName": "Rohith Teja",
      "photoUrl": "https://lh3.googleusercontent.com/-nt8x4joQmgY/AAAAAAAAAAI/AAAAAAAAAvg/AbgIIUozOq0/s64/photo.jpg",
      "userId": "01155222072916958278"
     },
     "user_tz": -60
    },
    "id": "49K-IMU3rhpA",
    "outputId": "63ceb32b-cb90-4bf9-912c-f390d11ee4c4"
   },
   "outputs": [
    {
     "name": "stdout",
     "output_type": "stream",
     "text": [
      "Model train accuracy score: 1.0000\n",
      "              precision    recall  f1-score   support\n",
      "\n",
      "           0       0.98      0.98      0.98        85\n",
      "           1       0.89      0.89      0.89        18\n",
      "\n",
      "    accuracy                           0.96       103\n",
      "   macro avg       0.93      0.93      0.93       103\n",
      "weighted avg       0.96      0.96      0.96       103\n",
      "\n"
     ]
    },
    {
     "name": "stderr",
     "output_type": "stream",
     "text": [
      "/usr/local/lib/python3.6/dist-packages/tensorflow/python/keras/engine/sequential.py:450: UserWarning: `model.predict_classes()` is deprecated and will be removed after 2021-01-01. Please use instead:* `np.argmax(model.predict(x), axis=-1)`,   if your model does multi-class classification   (e.g. if it uses a `softmax` last-layer activation).* `(model.predict(x) > 0.5).astype(\"int32\")`,   if your model does binary classification   (e.g. if it uses a `sigmoid` last-layer activation).\n",
      "  warnings.warn('`model.predict_classes()` is deprecated and '\n"
     ]
    }
   ],
   "source": [
    "y_pred_train = model.predict_classes(x_train)\n",
    "y_pred_test = model.predict_classes(x_test)\n",
    "print('Model train accuracy score: {0:0.4f}'. format(accuracy_score(y_train, y_pred_train)))\n",
    "print(classification_report(y_test, y_pred_test))"
   ]
  },
  {
   "cell_type": "code",
   "execution_count": null,
   "metadata": {
    "colab": {
     "base_uri": "https://localhost:8080/",
     "height": 297
    },
    "executionInfo": {
     "elapsed": 1252,
     "status": "ok",
     "timestamp": 1611598537777,
     "user": {
      "displayName": "Rohith Teja",
      "photoUrl": "https://lh3.googleusercontent.com/-nt8x4joQmgY/AAAAAAAAAAI/AAAAAAAAAvg/AbgIIUozOq0/s64/photo.jpg",
      "userId": "01155222072916958278"
     },
     "user_tz": -60
    },
    "id": "-7_Ypruat8kd",
    "outputId": "c308d237-828c-410c-b000-27bfbc64d16e"
   },
   "outputs": [
    {
     "data": {
      "image/png": "[encoded data removed]",
      "text/plain": [
       "<Figure size 432x288 with 1 Axes>"
      ]
     },
     "metadata": {
      "needs_background": "light",
      "tags": []
     },
     "output_type": "display_data"
    }
   ],
   "source": [
    "import matplotlib\n",
    "import matplotlib.pyplot as plt\n",
    "import numpy as np\n",
    "\n",
    "\n",
    "labels = ['Naives-Bayes', 'KNN', 'SVM', 'Dec. Tree', 'R. Forest', \"MLP\"]\n",
    "c1 = [0.84,0.89,0.96,0.95,0.96,1.00]\n",
    "c2 = [0.92,0.93,0.95,0.95,0.95,0.93]\n",
    "\n",
    "x = np.arange(len(labels))  # the label locations\n",
    "width = 0.2  # the width of the bars\n",
    "\n",
    "fig, ax = plt.subplots()\n",
    "rects1 = ax.bar(x - width/2, c1, width, label='Case 1')\n",
    "rects2 = ax.bar(x + width/2, c2, width, label='Case 2')\n",
    "\n",
    "# Add some text for labels, title and custom x-axis tick labels, etc.\n",
    "ax.set_ylabel('F1 Scores')\n",
    "ax.set_xticks(x)\n",
    "ax.set_xticklabels(labels)\n",
    "ax.legend()\n",
    "\n",
    "\n",
    "# def autolabel(rects):\n",
    "#     \"\"\"Attach a text label above each bar in *rects*, displaying its height.\"\"\"\n",
    "#     for rect in rects:\n",
    "#         height = rect.get_height()\n",
    "#         ax.annotate('{}'.format(height),\n",
    "#                     xy=(rect.get_x() + rect.get_width() / 2, height),\n",
    "#                     xytext=(0, 3),  # 3 points vertical offset\n",
    "#                     textcoords=\"offset points\",\n",
    "#                     ha='center', va='bottom')\n",
    "\n",
    "\n",
    "# autolabel(rects1)\n",
    "# autolabel(rects2)\n",
    "\n",
    "fig.tight_layout()\n",
    "\n",
    "plt.savefig(\"f1score\", bbox_inches='tight',dpi = 200)"
   ]
  },
  {
   "cell_type": "code",
   "execution_count": null,
   "metadata": {
    "id": "xN6ZfTvpt8oR"
   },
   "outputs": [],
   "source": []
  },
  {
   "cell_type": "code",
   "execution_count": null,
   "metadata": {
    "colab": {
     "base_uri": "https://localhost:8080/",
     "height": 401
    },
    "executionInfo": {
     "elapsed": 2828,
     "status": "ok",
     "timestamp": 1611605276987,
     "user": {
      "displayName": "Rohith Teja",
      "photoUrl": "https://lh3.googleusercontent.com/-nt8x4joQmgY/AAAAAAAAAAI/AAAAAAAAAvg/AbgIIUozOq0/s64/photo.jpg",
      "userId": "01155222072916958278"
     },
     "user_tz": -60
    },
    "id": "OaGeoETyt8_D",
    "outputId": "5b3a94ba-22c0-4ccb-89c7-152d01a42c9f"
   },
   "outputs": [
    {
     "name": "stdout",
     "output_type": "stream",
     "text": [
      "[t-SNE] Computing 121 nearest neighbors...\n",
      "[t-SNE] Indexed 686 samples in 0.003s...\n",
      "[t-SNE] Computed neighbors for 686 samples in 0.056s...\n",
      "[t-SNE] Computed conditional probabilities for sample 686 / 686\n",
      "[t-SNE] Mean sigma: 0.574296\n",
      "[t-SNE] KL divergence after 250 iterations with early exaggeration: 67.764511\n",
      "[t-SNE] KL divergence after 300 iterations: 0.928890\n"
     ]
    },
    {
     "data": {
      "text/plain": [
       "<matplotlib.collections.PathCollection at 0x7fe9589077f0>"
      ]
     },
     "execution_count": 43,
     "metadata": {
      "tags": []
     },
     "output_type": "execute_result"
    },
    {
     "data": {
      "image/png": "[encoded data removed]",
      "text/plain": [
       "<Figure size 432x288 with 1 Axes>"
      ]
     },
     "metadata": {
      "needs_background": "light",
      "tags": []
     },
     "output_type": "display_data"
    }
   ],
   "source": [
    "from sklearn.manifold import TSNE\n",
    "import matplotlib.pyplot as plt\n",
    "\n",
    "tsne = TSNE(n_components=2, verbose=1, perplexity=40, n_iter=300)\n",
    "tsne_results = tsne.fit_transform(x)\n",
    "\n",
    "a = tsne_results[:,0]\n",
    "b = tsne_results[:,1]\n",
    "plt.scatter(a,b,c=y,s=10)"
   ]
  },
  {
   "cell_type": "code",
   "execution_count": null,
   "metadata": {
    "colab": {
     "base_uri": "https://localhost:8080/",
     "height": 265
    },
    "executionInfo": {
     "elapsed": 1162,
     "status": "ok",
     "timestamp": 1611606653589,
     "user": {
      "displayName": "Rohith Teja",
      "photoUrl": "https://lh3.googleusercontent.com/-nt8x4joQmgY/AAAAAAAAAAI/AAAAAAAAAvg/AbgIIUozOq0/s64/photo.jpg",
      "userId": "01155222072916958278"
     },
     "user_tz": -60
    },
    "id": "cepNEwnMt9DV",
    "outputId": "bf640a6b-806c-4a2d-c824-248d45ce7685"
   },
   "outputs": [
    {
     "data": {
      "image/png": "[encoded data removed]",
      "text/plain": [
       "<Figure size 432x288 with 1 Axes>"
      ]
     },
     "metadata": {
      "needs_background": "light",
      "tags": []
     },
     "output_type": "display_data"
    }
   ],
   "source": [
    "df = pd.DataFrame()\n",
    "df[\"a\"] = a\n",
    "df[\"b\"] = b\n",
    "df[\"y\"] = y\n",
    "\n",
    "aa = df[df.y==0]\n",
    "bb = df[df.y==1]\n",
    "\n",
    "plt.scatter(aa.a,aa.b,c=\"b\",s=10,label=\"not-spam\")\n",
    "plt.scatter(bb.a,bb.b,c=\"r\",s=10,label=\"spam\")\n",
    "plt.legend()\n",
    "plt.savefig(\"tsnec3\", bbox_inches='tight',dpi = 200)"
   ]
  },
  {
   "cell_type": "code",
   "execution_count": null,
   "metadata": {
    "id": "UWafXkAKt9IE"
   },
   "outputs": [],
   "source": []
  },
  {
   "cell_type": "code",
   "execution_count": null,
   "metadata": {
    "id": "MZuuE-Lmt9Ms"
   },
   "outputs": [],
   "source": []
  },
  {
   "cell_type": "code",
   "execution_count": null,
   "metadata": {
    "id": "GQvkIHg3t9RH"
   },
   "outputs": [],
   "source": []
  }
 ],
 "metadata": {
  "colab": {
   "authorship_tag": "ABX9TyMDoPsHTA9/nuiPF83E5wWJ",
   "collapsed_sections": [],
   "mount_file_id": "1J0QA4GIhZzdlYERKVrgMtdou5uNV-jmj",
   "name": "Social_spam_Case_3.ipynb",
   "provenance": []
  },
  "kernelspec": {
   "display_name": "Python 3",
   "language": "python",
   "name": "python3"
  },
  "language_info": {
   "codemirror_mode": {
    "name": "ipython",
    "version": 3
   },
   "file_extension": ".py",
   "mimetype": "text/x-python",
   "name": "python",
   "nbconvert_exporter": "python",
   "pygments_lexer": "ipython3",
   "version": "3.8.3"
  }
 },
 "nbformat": 4,
 "nbformat_minor": 1
}
