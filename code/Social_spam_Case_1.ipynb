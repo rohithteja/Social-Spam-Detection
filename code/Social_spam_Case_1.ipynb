{
 "cells": [
  {
   "cell_type": "code",
   "execution_count": null,
   "metadata": {
    "id": "Qw9QP4taC4yJ"
   },
   "outputs": [],
   "source": [
    "import pandas as pd\n",
    "from sklearn.model_selection import GridSearchCV, StratifiedKFold, train_test_split\n",
    "import numpy as np\n",
    "from sklearn.svm import SVC\n",
    "from sklearn.datasets import make_classification\n",
    "from sklearn.feature_selection import SelectKBest\n",
    "from sklearn.feature_selection import f_classif\n",
    "from sklearn.model_selection import cross_val_score\n",
    "from sklearn.preprocessing import StandardScaler\n",
    "from sklearn.metrics import accuracy_score, f1_score, classification_report\n"
   ]
  },
  {
   "cell_type": "code",
   "execution_count": null,
   "metadata": {
    "id": "3pbjRi6MC40m"
   },
   "outputs": [],
   "source": [
    "# read data and merge the train and test with features\n",
    "\n",
    "coded_id = pd.read_csv(\"users/coded_ids.csv\")\n",
    "features = pd.read_csv(\"users_features/features.csv\")\n",
    "users = pd.merge(features, coded_id, on='user_id', how='left')\n",
    "\n",
    "train = pd.read_csv(\"users/coded_ids_labels_train.csv\")\n",
    "test = pd.read_csv(\"users/coded_ids_labels_test.csv\")\n",
    "train = pd.merge(users, train, on='coded_id', how='right')\n",
    "test = pd.merge(users, test, on='coded_id', how='right')"
   ]
  },
  {
   "cell_type": "code",
   "execution_count": null,
   "metadata": {
    "colab": {
     "base_uri": "https://localhost:8080/"
    },
    "executionInfo": {
     "elapsed": 628,
     "status": "ok",
     "timestamp": 1611474581580,
     "user": {
      "displayName": "Rohith Teja",
      "photoUrl": "https://lh3.googleusercontent.com/-nt8x4joQmgY/AAAAAAAAAAI/AAAAAAAAAvg/AbgIIUozOq0/s64/photo.jpg",
      "userId": "01155222072916958278"
     },
     "user_tz": -60
    },
    "id": "xNKWnDwSqgB7",
    "outputId": "0fe5d730-d7ef-44e1-9eec-653520f0ff24"
   },
   "outputs": [
    {
     "data": {
      "text/plain": [
       "(686, 125)"
      ]
     },
     "execution_count": 21,
     "metadata": {
      "tags": []
     },
     "output_type": "execute_result"
    }
   ],
   "source": [
    "train.shape"
   ]
  },
  {
   "cell_type": "code",
   "execution_count": null,
   "metadata": {
    "colab": {
     "base_uri": "https://localhost:8080/"
    },
    "executionInfo": {
     "elapsed": 615,
     "status": "ok",
     "timestamp": 1611474583715,
     "user": {
      "displayName": "Rohith Teja",
      "photoUrl": "https://lh3.googleusercontent.com/-nt8x4joQmgY/AAAAAAAAAAI/AAAAAAAAAvg/AbgIIUozOq0/s64/photo.jpg",
      "userId": "01155222072916958278"
     },
     "user_tz": -60
    },
    "id": "OIzQr7e3qkJ8",
    "outputId": "de7db3eb-34b8-4d43-cbcb-88df9c19eedf"
   },
   "outputs": [
    {
     "data": {
      "text/plain": [
       "(81, 124)"
      ]
     },
     "execution_count": 22,
     "metadata": {
      "tags": []
     },
     "output_type": "execute_result"
    }
   ],
   "source": [
    "test.shape"
   ]
  },
  {
   "cell_type": "code",
   "execution_count": null,
   "metadata": {
    "id": "NDFx7KGNC45G"
   },
   "outputs": [],
   "source": [
    "#cleaning train dataset\n",
    "\n",
    "#remove columns with na values\n",
    "nacolumns = train.columns[train.isna().any()].tolist()\n",
    "train.drop(columns = nacolumns,inplace=True)\n",
    "train.dropna(axis=0,inplace=True)\n",
    "\n",
    "#remove unwanted category columns like time and IDs\n",
    "unwanted = [\"default_profile\",\"default_profile_image\",\"avg_intertweet_times\",\"date_newest_tweet\",\"lang\",\"min_intertweet_times\",\"std_nb_symbols_per_tweet\",\"std_nb_symbols_per_word_in_the_tweet\",\"date_oldest_tweet\",\"max_intertweet_times\",\"max_nb_symbols_per_tweet\",\"max_nb_symbols_per_word_in_the_tweet\",\"std_intertweet_times\",\"user_id\",\"coded_id\"]\n",
    "train.drop(columns=unwanted,inplace=True)\n",
    "\n",
    "#remove columns like \n",
    "allzero_cols = list(train.loc[:,(train==0).all()].columns)\n",
    "train.drop(columns=allzero_cols,inplace=True)\n"
   ]
  },
  {
   "cell_type": "code",
   "execution_count": null,
   "metadata": {
    "id": "VaneEjeSXZSY"
   },
   "outputs": [],
   "source": [
    "#cleaning test dataset\n",
    "\n",
    "#remove columns with na values\n",
    "nacolumns = test.columns[test.isna().any()].tolist()\n",
    "test.drop(columns = nacolumns,inplace=True)\n",
    "test.dropna(axis=0,inplace=True)\n",
    "\n",
    "#remove unwanted category columns like time and IDs\n",
    "unwanted = [\"default_profile\",\"default_profile_image\",\"avg_intertweet_times\",\"date_newest_tweet\",\"lang\",\"min_intertweet_times\",\"std_nb_symbols_per_tweet\",\"std_nb_symbols_per_word_in_the_tweet\",\"date_oldest_tweet\",\"max_intertweet_times\",\"max_nb_symbols_per_tweet\",\"max_nb_symbols_per_word_in_the_tweet\",\"std_intertweet_times\",\"user_id\",\"coded_id\"]\n",
    "test.drop(columns=unwanted,inplace=True)\n",
    "\n",
    "#remove columns like \n",
    "allzero_cols = list(test.loc[:,(test==0).all()].columns)\n",
    "test.drop(columns=allzero_cols,inplace=True)\n"
   ]
  },
  {
   "cell_type": "code",
   "execution_count": null,
   "metadata": {
    "id": "wUteNoNdPD1l"
   },
   "outputs": [],
   "source": [
    "#split data into x features and labels\n",
    "x = train.iloc[:,:124]\n",
    "\n",
    "#normalizing the numerical features\n",
    "scale = StandardScaler()\n",
    "x = scale.fit_transform(x)\n",
    "test = scale.fit_transform(test)\n",
    "\n",
    "y = train.label"
   ]
  },
  {
   "cell_type": "code",
   "execution_count": null,
   "metadata": {
    "colab": {
     "base_uri": "https://localhost:8080/"
    },
    "executionInfo": {
     "elapsed": 362,
     "status": "ok",
     "timestamp": 1611604853333,
     "user": {
      "displayName": "Rohith Teja",
      "photoUrl": "https://lh3.googleusercontent.com/-nt8x4joQmgY/AAAAAAAAAAI/AAAAAAAAAvg/AbgIIUozOq0/s64/photo.jpg",
      "userId": "01155222072916958278"
     },
     "user_tz": -60
    },
    "id": "75ZJvu9BOIax",
    "outputId": "5418c22d-ee34-4bdd-beb8-12eba8d1f95f"
   },
   "outputs": [
    {
     "data": {
      "text/plain": [
       "(686, 124)"
      ]
     },
     "execution_count": 49,
     "metadata": {
      "tags": []
     },
     "output_type": "execute_result"
    }
   ],
   "source": [
    "x.shape"
   ]
  },
  {
   "cell_type": "code",
   "execution_count": null,
   "metadata": {
    "colab": {
     "base_uri": "https://localhost:8080/"
    },
    "executionInfo": {
     "elapsed": 544,
     "status": "ok",
     "timestamp": 1611487560181,
     "user": {
      "displayName": "Rohith Teja",
      "photoUrl": "https://lh3.googleusercontent.com/-nt8x4joQmgY/AAAAAAAAAAI/AAAAAAAAAvg/AbgIIUozOq0/s64/photo.jpg",
      "userId": "01155222072916958278"
     },
     "user_tz": -60
    },
    "id": "rbz7_cTFxjib",
    "outputId": "8eb1b456-2dc6-497c-a46b-9521c77413da"
   },
   "outputs": [
    {
     "data": {
      "text/plain": [
       "0    568\n",
       "1    118\n",
       "Name: label, dtype: int64"
      ]
     },
     "execution_count": 76,
     "metadata": {
      "tags": []
     },
     "output_type": "execute_result"
    }
   ],
   "source": [
    "y.value_counts()"
   ]
  },
  {
   "cell_type": "code",
   "execution_count": null,
   "metadata": {
    "id": "1Pr82Q34PGIe"
   },
   "outputs": [],
   "source": [
    "#train test (validation) split\n",
    "x_train, x_test, y_train, y_test = train_test_split(x,y ,stratify=y, test_size=0.15,random_state=1)"
   ]
  },
  {
   "cell_type": "code",
   "execution_count": null,
   "metadata": {
    "id": "_b7DQKoDkQtL"
   },
   "outputs": [],
   "source": [
    "#function for performing grid search\n",
    "\n",
    "def grid_search(model,params):\n",
    "  skf = StratifiedKFold(n_splits=10)\n",
    "  gs = GridSearchCV(model, cv=skf, param_grid=params, return_train_score=True)\n",
    "  gs.fit(x_train, y_train)\n",
    "  print(\"best params = \",gs.best_params_)\n",
    "  print(\"best score =\",gs.best_score_)"
   ]
  },
  {
   "cell_type": "code",
   "execution_count": null,
   "metadata": {
    "colab": {
     "base_uri": "https://localhost:8080/"
    },
    "executionInfo": {
     "elapsed": 690,
     "status": "ok",
     "timestamp": 1610365362799,
     "user": {
      "displayName": "Rohith Teja",
      "photoUrl": "https://lh3.googleusercontent.com/-nt8x4joQmgY/AAAAAAAAAAI/AAAAAAAAAvg/AbgIIUozOq0/s64/photo.jpg",
      "userId": "01155222072916958278"
     },
     "user_tz": -60
    },
    "id": "ZGoTTi3DfzXt",
    "outputId": "52d1d803-8ce3-45f5-804d-a47a72ace5d2"
   },
   "outputs": [
    {
     "name": "stdout",
     "output_type": "stream",
     "text": [
      "best params =  {'var_smoothing': 0.1}\n",
      "best score = 0.9176504967855055\n"
     ]
    }
   ],
   "source": [
    "#naives bayes\n",
    "from sklearn.naive_bayes import GaussianNB\n",
    "\n",
    "model = GaussianNB()\n",
    "params = {\"var_smoothing\":[1,0.1,1e-2]}\n",
    "\n",
    "grid_search(model,params)"
   ]
  },
  {
   "cell_type": "code",
   "execution_count": null,
   "metadata": {
    "colab": {
     "base_uri": "https://localhost:8080/"
    },
    "executionInfo": {
     "elapsed": 722,
     "status": "ok",
     "timestamp": 1610365472165,
     "user": {
      "displayName": "Rohith Teja",
      "photoUrl": "https://lh3.googleusercontent.com/-nt8x4joQmgY/AAAAAAAAAAI/AAAAAAAAAvg/AbgIIUozOq0/s64/photo.jpg",
      "userId": "01155222072916958278"
     },
     "user_tz": -60
    },
    "id": "W51I8XKSfzcj",
    "outputId": "46f44bc9-14ea-46d9-948a-3856f6513623"
   },
   "outputs": [
    {
     "name": "stdout",
     "output_type": "stream",
     "text": [
      "Model train accuracy score: 0.9228\n",
      "              precision    recall  f1-score   support\n",
      "\n",
      "           0       0.99      0.88      0.93        85\n",
      "           1       0.63      0.94      0.76        18\n",
      "\n",
      "    accuracy                           0.89       103\n",
      "   macro avg       0.81      0.91      0.84       103\n",
      "weighted avg       0.92      0.89      0.90       103\n",
      "\n"
     ]
    }
   ],
   "source": [
    "#naives bayes test\n",
    "model = GaussianNB(var_smoothing=0.1)\n",
    "model.fit(x_train, y_train)\n",
    "y_pred_train = model.predict(x_train)\n",
    "y_pred_test = model.predict(x_test)\n",
    "print('Model train accuracy score: {0:0.4f}'. format(accuracy_score(y_train, y_pred_train)))\n",
    "print(classification_report(y_test, y_pred_test))"
   ]
  },
  {
   "cell_type": "code",
   "execution_count": null,
   "metadata": {
    "colab": {
     "base_uri": "https://localhost:8080/"
    },
    "executionInfo": {
     "elapsed": 19363,
     "status": "ok",
     "timestamp": 1610365500423,
     "user": {
      "displayName": "Rohith Teja",
      "photoUrl": "https://lh3.googleusercontent.com/-nt8x4joQmgY/AAAAAAAAAAI/AAAAAAAAAvg/AbgIIUozOq0/s64/photo.jpg",
      "userId": "01155222072916958278"
     },
     "user_tz": -60
    },
    "id": "jX_BENgXk_L7",
    "outputId": "bd8230f1-79ae-4872-e148-549e54c9d5b7"
   },
   "outputs": [
    {
     "name": "stdout",
     "output_type": "stream",
     "text": [
      "best params =  {'n_neighbors': 3}\n",
      "best score = 0.950292226767972\n"
     ]
    }
   ],
   "source": [
    "#knn\n",
    "\n",
    "from sklearn.neighbors import KNeighborsClassifier\n",
    "model = KNeighborsClassifier()\n",
    "params = {\"n_neighbors\":[i for i in range(1,20)]}\n",
    "\n",
    "grid_search(model,params)"
   ]
  },
  {
   "cell_type": "code",
   "execution_count": null,
   "metadata": {
    "colab": {
     "base_uri": "https://localhost:8080/"
    },
    "executionInfo": {
     "elapsed": 725,
     "status": "ok",
     "timestamp": 1610365515582,
     "user": {
      "displayName": "Rohith Teja",
      "photoUrl": "https://lh3.googleusercontent.com/-nt8x4joQmgY/AAAAAAAAAAI/AAAAAAAAAvg/AbgIIUozOq0/s64/photo.jpg",
      "userId": "01155222072916958278"
     },
     "user_tz": -60
    },
    "id": "PBJ4-7YTk_OK",
    "outputId": "4797e8b3-a0b9-4c9a-d978-e1999a804074"
   },
   "outputs": [
    {
     "name": "stdout",
     "output_type": "stream",
     "text": [
      "Model train accuracy score: 0.9691\n",
      "              precision    recall  f1-score   support\n",
      "\n",
      "           0       0.94      0.99      0.97        85\n",
      "           1       0.93      0.72      0.81        18\n",
      "\n",
      "    accuracy                           0.94       103\n",
      "   macro avg       0.94      0.86      0.89       103\n",
      "weighted avg       0.94      0.94      0.94       103\n",
      "\n"
     ]
    }
   ],
   "source": [
    "#knn test\n",
    "\n",
    "model = KNeighborsClassifier(n_neighbors=3)\n",
    "model.fit(x_train, y_train)\n",
    "y_pred_train = model.predict(x_train)\n",
    "y_pred_test = model.predict(x_test)\n",
    "print('Model train accuracy score: {0:0.4f}'. format(accuracy_score(y_train, y_pred_train)))\n",
    "print(classification_report(y_test, y_pred_test))"
   ]
  },
  {
   "cell_type": "code",
   "execution_count": null,
   "metadata": {
    "colab": {
     "base_uri": "https://localhost:8080/"
    },
    "executionInfo": {
     "elapsed": 4563,
     "status": "ok",
     "timestamp": 1610365535566,
     "user": {
      "displayName": "Rohith Teja",
      "photoUrl": "https://lh3.googleusercontent.com/-nt8x4joQmgY/AAAAAAAAAAI/AAAAAAAAAvg/AbgIIUozOq0/s64/photo.jpg",
      "userId": "01155222072916958278"
     },
     "user_tz": -60
    },
    "id": "5mEtvEO3k_TH",
    "outputId": "b165d87f-49ea-4806-ddce-42999495daa6"
   },
   "outputs": [
    {
     "name": "stdout",
     "output_type": "stream",
     "text": [
      "best params =  {'C': 10, 'kernel': 'poly'}\n",
      "best score = 0.9571011104617183\n"
     ]
    }
   ],
   "source": [
    "#svm\n",
    "\n",
    "from sklearn.svm import SVC\n",
    "\n",
    "model = SVC()\n",
    "params = {\"C\":[0.1,1,10],\n",
    "          \"kernel\":[\"linear\", \"poly\", \"rbf\", \"sigmoid\"]}\n",
    "grid_search(model,params)"
   ]
  },
  {
   "cell_type": "code",
   "execution_count": null,
   "metadata": {
    "colab": {
     "base_uri": "https://localhost:8080/"
    },
    "executionInfo": {
     "elapsed": 104592,
     "status": "ok",
     "timestamp": 1610365657107,
     "user": {
      "displayName": "Rohith Teja",
      "photoUrl": "https://lh3.googleusercontent.com/-nt8x4joQmgY/AAAAAAAAAAI/AAAAAAAAAvg/AbgIIUozOq0/s64/photo.jpg",
      "userId": "01155222072916958278"
     },
     "user_tz": -60
    },
    "id": "MQHznOyMk_qa",
    "outputId": "da32112d-2057-4eb9-e9d9-2c909ad17e18"
   },
   "outputs": [
    {
     "name": "stdout",
     "output_type": "stream",
     "text": [
      "best params =  {'criterion': 'gini', 'max_depth': 4, 'min_samples_leaf': 1, 'min_samples_split': 9}\n",
      "best score = 0.9588544710695499\n"
     ]
    }
   ],
   "source": [
    "#decision tree\n",
    "from sklearn.tree import DecisionTreeClassifier\n",
    "\n",
    "model = DecisionTreeClassifier()\n",
    "params = {\"criterion\":[\"gini\",\"entropy\"],\n",
    "          \"max_depth\":range(1,10),\n",
    "          \"min_samples_split\":range(2,10),\n",
    "          \"min_samples_leaf\":range(1,5)}\n",
    "grid_search(model,params)"
   ]
  },
  {
   "cell_type": "code",
   "execution_count": null,
   "metadata": {
    "colab": {
     "base_uri": "https://localhost:8080/"
    },
    "executionInfo": {
     "elapsed": 511785,
     "status": "ok",
     "timestamp": 1610366208669,
     "user": {
      "displayName": "Rohith Teja",
      "photoUrl": "https://lh3.googleusercontent.com/-nt8x4joQmgY/AAAAAAAAAAI/AAAAAAAAAvg/AbgIIUozOq0/s64/photo.jpg",
      "userId": "01155222072916958278"
     },
     "user_tz": -60
    },
    "id": "n8EyNey-k_u5",
    "outputId": "5185ab26-cca7-4794-b501-b51fe6b023eb"
   },
   "outputs": [
    {
     "name": "stdout",
     "output_type": "stream",
     "text": [
      "best params =  {'criterion': 'gini', 'max_depth': 7, 'max_features': 'log2', 'n_estimators': 200}\n",
      "best score = 0.9622735242548217\n"
     ]
    }
   ],
   "source": [
    "#random forest\n",
    "from sklearn.ensemble import RandomForestClassifier\n",
    "model = RandomForestClassifier()\n",
    "params = { \n",
    "    'n_estimators': [200, 500],\n",
    "    'max_features': ['auto', 'sqrt', 'log2'],\n",
    "    'max_depth' : [4,5,6,7,8],\n",
    "    'criterion' :['gini', 'entropy']\n",
    "}\n",
    "grid_search(model,params)"
   ]
  },
  {
   "cell_type": "code",
   "execution_count": null,
   "metadata": {
    "colab": {
     "base_uri": "https://localhost:8080/"
    },
    "executionInfo": {
     "elapsed": 4448,
     "status": "ok",
     "timestamp": 1610366421057,
     "user": {
      "displayName": "Rohith Teja",
      "photoUrl": "https://lh3.googleusercontent.com/-nt8x4joQmgY/AAAAAAAAAAI/AAAAAAAAAvg/AbgIIUozOq0/s64/photo.jpg",
      "userId": "01155222072916958278"
     },
     "user_tz": -60
    },
    "id": "EvQ7G1xPrhkc",
    "outputId": "53b093c3-c467-4cc7-d84d-28ba488ebfc5"
   },
   "outputs": [
    {
     "name": "stdout",
     "output_type": "stream",
     "text": [
      "Epoch 1/50\n",
      "59/59 [==============================] - 0s 1ms/step - loss: 0.9701 - accuracy: 0.4044\n",
      "Epoch 2/50\n",
      "59/59 [==============================] - 0s 1ms/step - loss: 0.2546 - accuracy: 0.9463\n",
      "Epoch 3/50\n",
      "59/59 [==============================] - 0s 1ms/step - loss: 0.1541 - accuracy: 0.9499\n",
      "Epoch 4/50\n",
      "59/59 [==============================] - 0s 1ms/step - loss: 0.1025 - accuracy: 0.9758\n",
      "Epoch 5/50\n",
      "59/59 [==============================] - 0s 1ms/step - loss: 0.0949 - accuracy: 0.9753\n",
      "Epoch 6/50\n",
      "59/59 [==============================] - 0s 1ms/step - loss: 0.0803 - accuracy: 0.9774\n",
      "Epoch 7/50\n",
      "59/59 [==============================] - 0s 1ms/step - loss: 0.0556 - accuracy: 0.9845\n",
      "Epoch 8/50\n",
      "59/59 [==============================] - 0s 1ms/step - loss: 0.0517 - accuracy: 0.9793\n",
      "Epoch 9/50\n",
      "59/59 [==============================] - 0s 1ms/step - loss: 0.0562 - accuracy: 0.9857\n",
      "Epoch 10/50\n",
      "59/59 [==============================] - 0s 1ms/step - loss: 0.0472 - accuracy: 0.9920\n",
      "Epoch 11/50\n",
      "59/59 [==============================] - 0s 1ms/step - loss: 0.0431 - accuracy: 0.9935\n",
      "Epoch 12/50\n",
      "59/59 [==============================] - 0s 1ms/step - loss: 0.0417 - accuracy: 0.9943\n",
      "Epoch 13/50\n",
      "59/59 [==============================] - 0s 1ms/step - loss: 0.0348 - accuracy: 0.9953\n",
      "Epoch 14/50\n",
      "59/59 [==============================] - 0s 1ms/step - loss: 0.0312 - accuracy: 0.9970\n",
      "Epoch 15/50\n",
      "59/59 [==============================] - 0s 1ms/step - loss: 0.0297 - accuracy: 0.9951\n",
      "Epoch 16/50\n",
      "59/59 [==============================] - 0s 1ms/step - loss: 0.0256 - accuracy: 0.9981\n",
      "Epoch 17/50\n",
      "59/59 [==============================] - 0s 1ms/step - loss: 0.0264 - accuracy: 0.9947\n",
      "Epoch 18/50\n",
      "59/59 [==============================] - 0s 1ms/step - loss: 0.0240 - accuracy: 0.9937\n",
      "Epoch 19/50\n",
      "59/59 [==============================] - 0s 1ms/step - loss: 0.0224 - accuracy: 0.9925\n",
      "Epoch 20/50\n",
      "59/59 [==============================] - 0s 1ms/step - loss: 0.0177 - accuracy: 0.9971\n",
      "Epoch 21/50\n",
      "59/59 [==============================] - 0s 1ms/step - loss: 0.0190 - accuracy: 0.9955\n",
      "Epoch 22/50\n",
      "59/59 [==============================] - 0s 1ms/step - loss: 0.0131 - accuracy: 0.9975\n",
      "Epoch 23/50\n",
      "59/59 [==============================] - 0s 1ms/step - loss: 0.0156 - accuracy: 0.9994\n",
      "Epoch 24/50\n",
      "59/59 [==============================] - 0s 1ms/step - loss: 0.0137 - accuracy: 1.0000\n",
      "Epoch 25/50\n",
      "59/59 [==============================] - 0s 1ms/step - loss: 0.0103 - accuracy: 0.9990\n",
      "Epoch 26/50\n",
      "59/59 [==============================] - 0s 1ms/step - loss: 0.0109 - accuracy: 1.0000\n",
      "Epoch 27/50\n",
      "59/59 [==============================] - 0s 1ms/step - loss: 0.0072 - accuracy: 1.0000\n",
      "Epoch 28/50\n",
      "59/59 [==============================] - 0s 1ms/step - loss: 0.0108 - accuracy: 1.0000\n",
      "Epoch 29/50\n",
      "59/59 [==============================] - 0s 1ms/step - loss: 0.0098 - accuracy: 1.0000\n",
      "Epoch 30/50\n",
      "59/59 [==============================] - 0s 1ms/step - loss: 0.0094 - accuracy: 1.0000\n",
      "Epoch 31/50\n",
      "59/59 [==============================] - 0s 1ms/step - loss: 0.0055 - accuracy: 1.0000\n",
      "Epoch 32/50\n",
      "59/59 [==============================] - 0s 1ms/step - loss: 0.0078 - accuracy: 1.0000\n",
      "Epoch 33/50\n",
      "59/59 [==============================] - 0s 1ms/step - loss: 0.0073 - accuracy: 1.0000\n",
      "Epoch 34/50\n",
      "59/59 [==============================] - 0s 1ms/step - loss: 0.0054 - accuracy: 1.0000\n",
      "Epoch 35/50\n",
      "59/59 [==============================] - 0s 1ms/step - loss: 0.0046 - accuracy: 1.0000\n",
      "Epoch 36/50\n",
      "59/59 [==============================] - 0s 1ms/step - loss: 0.0047 - accuracy: 1.0000\n",
      "Epoch 37/50\n",
      "59/59 [==============================] - 0s 1ms/step - loss: 0.0048 - accuracy: 1.0000\n",
      "Epoch 38/50\n",
      "59/59 [==============================] - 0s 1ms/step - loss: 0.0055 - accuracy: 1.0000\n",
      "Epoch 39/50\n",
      "59/59 [==============================] - 0s 1ms/step - loss: 0.0046 - accuracy: 1.0000\n",
      "Epoch 40/50\n",
      "59/59 [==============================] - 0s 1ms/step - loss: 0.0044 - accuracy: 1.0000\n",
      "Epoch 41/50\n",
      "59/59 [==============================] - 0s 1ms/step - loss: 0.0032 - accuracy: 1.0000\n",
      "Epoch 42/50\n",
      "59/59 [==============================] - 0s 1ms/step - loss: 0.0036 - accuracy: 1.0000\n",
      "Epoch 43/50\n",
      "59/59 [==============================] - 0s 1ms/step - loss: 0.0028 - accuracy: 1.0000\n",
      "Epoch 44/50\n",
      "59/59 [==============================] - 0s 1ms/step - loss: 0.0046 - accuracy: 1.0000\n",
      "Epoch 45/50\n",
      "59/59 [==============================] - 0s 1ms/step - loss: 0.0034 - accuracy: 1.0000\n",
      "Epoch 46/50\n",
      "59/59 [==============================] - 0s 1ms/step - loss: 0.0021 - accuracy: 1.0000\n",
      "Epoch 47/50\n",
      "59/59 [==============================] - 0s 1ms/step - loss: 0.0023 - accuracy: 1.0000\n",
      "Epoch 48/50\n",
      "59/59 [==============================] - 0s 1ms/step - loss: 0.0022 - accuracy: 1.0000\n",
      "Epoch 49/50\n",
      "59/59 [==============================] - 0s 1ms/step - loss: 0.0023 - accuracy: 1.0000\n",
      "Epoch 50/50\n",
      "59/59 [==============================] - 0s 1ms/step - loss: 0.0019 - accuracy: 1.0000\n"
     ]
    },
    {
     "data": {
      "text/plain": [
       "<tensorflow.python.keras.callbacks.History at 0x7f77d0d348d0>"
      ]
     },
     "execution_count": 71,
     "metadata": {
      "tags": []
     },
     "output_type": "execute_result"
    }
   ],
   "source": [
    "#MLP\n",
    "from keras.models import Sequential\n",
    "from keras.layers import Dense\n",
    "from keras.wrappers.scikit_learn import KerasClassifier\n",
    "from sklearn.preprocessing import LabelEncoder\n",
    "\n",
    "model = Sequential()\n",
    "model.add(Dense(50, input_dim=124, activation='relu'))\n",
    "model.add(Dense(1, activation='sigmoid'))\n",
    "\n",
    "model.compile(loss='binary_crossentropy', optimizer='adam', metrics=['accuracy'])\n",
    "model.fit(x_train, y_train, epochs=50, batch_size=10)"
   ]
  },
  {
   "cell_type": "code",
   "execution_count": null,
   "metadata": {
    "colab": {
     "base_uri": "https://localhost:8080/"
    },
    "executionInfo": {
     "elapsed": 688,
     "status": "ok",
     "timestamp": 1610366425642,
     "user": {
      "displayName": "Rohith Teja",
      "photoUrl": "https://lh3.googleusercontent.com/-nt8x4joQmgY/AAAAAAAAAAI/AAAAAAAAAvg/AbgIIUozOq0/s64/photo.jpg",
      "userId": "01155222072916958278"
     },
     "user_tz": -60
    },
    "id": "49K-IMU3rhpA",
    "outputId": "70fc8f68-77e9-4b52-e4b3-ced32bdbaf17"
   },
   "outputs": [
    {
     "name": "stdout",
     "output_type": "stream",
     "text": [
      "Model train accuracy score: 1.0000\n",
      "              precision    recall  f1-score   support\n",
      "\n",
      "           0       1.00      1.00      1.00        85\n",
      "           1       1.00      1.00      1.00        18\n",
      "\n",
      "    accuracy                           1.00       103\n",
      "   macro avg       1.00      1.00      1.00       103\n",
      "weighted avg       1.00      1.00      1.00       103\n",
      "\n"
     ]
    },
    {
     "name": "stderr",
     "output_type": "stream",
     "text": [
      "/usr/local/lib/python3.6/dist-packages/tensorflow/python/keras/engine/sequential.py:450: UserWarning: `model.predict_classes()` is deprecated and will be removed after 2021-01-01. Please use instead:* `np.argmax(model.predict(x), axis=-1)`,   if your model does multi-class classification   (e.g. if it uses a `softmax` last-layer activation).* `(model.predict(x) > 0.5).astype(\"int32\")`,   if your model does binary classification   (e.g. if it uses a `sigmoid` last-layer activation).\n",
      "  warnings.warn('`model.predict_classes()` is deprecated and '\n"
     ]
    }
   ],
   "source": [
    "y_pred_train = model.predict_classes(x_train)\n",
    "y_pred_test = model.predict_classes(x_test)\n",
    "print('Model train accuracy score: {0:0.4f}'. format(accuracy_score(y_train, y_pred_train)))\n",
    "print(classification_report(y_test, y_pred_test))"
   ]
  },
  {
   "cell_type": "code",
   "execution_count": null,
   "metadata": {
    "colab": {
     "base_uri": "https://localhost:8080/"
    },
    "executionInfo": {
     "elapsed": 6472,
     "status": "ok",
     "timestamp": 1611487625460,
     "user": {
      "displayName": "Rohith Teja",
      "photoUrl": "https://lh3.googleusercontent.com/-nt8x4joQmgY/AAAAAAAAAAI/AAAAAAAAAvg/AbgIIUozOq0/s64/photo.jpg",
      "userId": "01155222072916958278"
     },
     "user_tz": -60
    },
    "id": "hRtUJFGskM3R",
    "outputId": "30b1d819-081b-44b0-a8d1-c10b4c8728c1"
   },
   "outputs": [
    {
     "name": "stdout",
     "output_type": "stream",
     "text": [
      "Epoch 1/50\n",
      "69/69 [==============================] - 1s 1ms/step - loss: 0.5201 - accuracy: 0.7616\n",
      "Epoch 2/50\n",
      "69/69 [==============================] - 0s 2ms/step - loss: 0.1559 - accuracy: 0.9548\n",
      "Epoch 3/50\n",
      "69/69 [==============================] - 0s 1ms/step - loss: 0.0912 - accuracy: 0.9767\n",
      "Epoch 4/50\n",
      "69/69 [==============================] - 0s 1ms/step - loss: 0.0794 - accuracy: 0.9881\n",
      "Epoch 5/50\n",
      "69/69 [==============================] - 0s 1ms/step - loss: 0.0660 - accuracy: 0.9857\n",
      "Epoch 6/50\n",
      "69/69 [==============================] - 0s 1ms/step - loss: 0.0487 - accuracy: 0.9868\n",
      "Epoch 7/50\n",
      "69/69 [==============================] - 0s 1ms/step - loss: 0.0394 - accuracy: 0.9916\n",
      "Epoch 8/50\n",
      "69/69 [==============================] - 0s 2ms/step - loss: 0.0389 - accuracy: 0.9912\n",
      "Epoch 9/50\n",
      "69/69 [==============================] - 0s 1ms/step - loss: 0.0431 - accuracy: 0.9843\n",
      "Epoch 10/50\n",
      "69/69 [==============================] - 0s 1ms/step - loss: 0.0278 - accuracy: 0.9968\n",
      "Epoch 11/50\n",
      "69/69 [==============================] - 0s 2ms/step - loss: 0.0293 - accuracy: 0.9944\n",
      "Epoch 12/50\n",
      "69/69 [==============================] - 0s 1ms/step - loss: 0.0254 - accuracy: 0.9933\n",
      "Epoch 13/50\n",
      "69/69 [==============================] - 0s 2ms/step - loss: 0.0245 - accuracy: 0.9971\n",
      "Epoch 14/50\n",
      "69/69 [==============================] - 0s 1ms/step - loss: 0.0196 - accuracy: 0.9978\n",
      "Epoch 15/50\n",
      "69/69 [==============================] - 0s 1ms/step - loss: 0.0139 - accuracy: 0.9990\n",
      "Epoch 16/50\n",
      "69/69 [==============================] - 0s 1ms/step - loss: 0.0146 - accuracy: 0.9969\n",
      "Epoch 17/50\n",
      "69/69 [==============================] - 0s 2ms/step - loss: 0.0131 - accuracy: 0.9999\n",
      "Epoch 18/50\n",
      "69/69 [==============================] - 0s 1ms/step - loss: 0.0134 - accuracy: 0.9964\n",
      "Epoch 19/50\n",
      "69/69 [==============================] - 0s 2ms/step - loss: 0.0099 - accuracy: 0.9996\n",
      "Epoch 20/50\n",
      "69/69 [==============================] - 0s 1ms/step - loss: 0.0094 - accuracy: 1.0000\n",
      "Epoch 21/50\n",
      "69/69 [==============================] - 0s 1ms/step - loss: 0.0079 - accuracy: 1.0000\n",
      "Epoch 22/50\n",
      "69/69 [==============================] - 0s 1ms/step - loss: 0.0091 - accuracy: 0.9980\n",
      "Epoch 23/50\n",
      "69/69 [==============================] - 0s 1ms/step - loss: 0.0059 - accuracy: 1.0000\n",
      "Epoch 24/50\n",
      "69/69 [==============================] - 0s 2ms/step - loss: 0.0057 - accuracy: 1.0000\n",
      "Epoch 25/50\n",
      "69/69 [==============================] - 0s 1ms/step - loss: 0.0050 - accuracy: 1.0000\n",
      "Epoch 26/50\n",
      "69/69 [==============================] - 0s 1ms/step - loss: 0.0068 - accuracy: 1.0000\n",
      "Epoch 27/50\n",
      "69/69 [==============================] - 0s 2ms/step - loss: 0.0050 - accuracy: 1.0000\n",
      "Epoch 28/50\n",
      "69/69 [==============================] - 0s 1ms/step - loss: 0.0049 - accuracy: 1.0000\n",
      "Epoch 29/50\n",
      "69/69 [==============================] - 0s 1ms/step - loss: 0.0043 - accuracy: 1.0000\n",
      "Epoch 30/50\n",
      "69/69 [==============================] - 0s 1ms/step - loss: 0.0035 - accuracy: 1.0000\n",
      "Epoch 31/50\n",
      "69/69 [==============================] - 0s 1ms/step - loss: 0.0059 - accuracy: 1.0000\n",
      "Epoch 32/50\n",
      "69/69 [==============================] - 0s 1ms/step - loss: 0.0024 - accuracy: 1.0000\n",
      "Epoch 33/50\n",
      "69/69 [==============================] - 0s 1ms/step - loss: 0.0025 - accuracy: 1.0000\n",
      "Epoch 34/50\n",
      "69/69 [==============================] - 0s 1ms/step - loss: 0.0023 - accuracy: 1.0000\n",
      "Epoch 35/50\n",
      "69/69 [==============================] - 0s 1ms/step - loss: 0.0025 - accuracy: 1.0000\n",
      "Epoch 36/50\n",
      "69/69 [==============================] - 0s 1ms/step - loss: 0.0028 - accuracy: 1.0000\n",
      "Epoch 37/50\n",
      "69/69 [==============================] - 0s 2ms/step - loss: 0.0018 - accuracy: 1.0000\n",
      "Epoch 38/50\n",
      "69/69 [==============================] - 0s 1ms/step - loss: 0.0017 - accuracy: 1.0000\n",
      "Epoch 39/50\n",
      "69/69 [==============================] - 0s 2ms/step - loss: 0.0018 - accuracy: 1.0000\n",
      "Epoch 40/50\n",
      "69/69 [==============================] - 0s 2ms/step - loss: 0.0021 - accuracy: 1.0000\n",
      "Epoch 41/50\n",
      "69/69 [==============================] - 0s 2ms/step - loss: 0.0018 - accuracy: 1.0000\n",
      "Epoch 42/50\n",
      "69/69 [==============================] - 0s 2ms/step - loss: 0.0014 - accuracy: 1.0000\n",
      "Epoch 43/50\n",
      "69/69 [==============================] - 0s 2ms/step - loss: 0.0016 - accuracy: 1.0000\n",
      "Epoch 44/50\n",
      "69/69 [==============================] - 0s 2ms/step - loss: 0.0017 - accuracy: 1.0000\n",
      "Epoch 45/50\n",
      "69/69 [==============================] - 0s 2ms/step - loss: 0.0013 - accuracy: 1.0000\n",
      "Epoch 46/50\n",
      "69/69 [==============================] - 0s 2ms/step - loss: 0.0018 - accuracy: 1.0000\n",
      "Epoch 47/50\n",
      "69/69 [==============================] - 0s 2ms/step - loss: 0.0013 - accuracy: 1.0000\n",
      "Epoch 48/50\n",
      "69/69 [==============================] - 0s 2ms/step - loss: 9.5451e-04 - accuracy: 1.0000\n",
      "Epoch 49/50\n",
      "69/69 [==============================] - 0s 2ms/step - loss: 0.0012 - accuracy: 1.0000\n",
      "Epoch 50/50\n",
      "69/69 [==============================] - 0s 2ms/step - loss: 8.7773e-04 - accuracy: 1.0000\n"
     ]
    },
    {
     "data": {
      "text/plain": [
       "<tensorflow.python.keras.callbacks.History at 0x7f9a6da75630>"
      ]
     },
     "execution_count": 81,
     "metadata": {
      "tags": []
     },
     "output_type": "execute_result"
    }
   ],
   "source": [
    "#MLP\n",
    "from keras.models import Sequential\n",
    "from keras.layers import Dense\n",
    "from keras.wrappers.scikit_learn import KerasClassifier\n",
    "from sklearn.preprocessing import LabelEncoder\n",
    "\n",
    "model = Sequential()\n",
    "model.add(Dense(50, input_dim=124, activation='relu'))\n",
    "model.add(Dense(1, activation='sigmoid'))\n",
    "\n",
    "model.compile(loss='binary_crossentropy', optimizer='adam', metrics=['accuracy'])\n",
    "model.fit(x, y, epochs=50, batch_size=10)"
   ]
  },
  {
   "cell_type": "code",
   "execution_count": null,
   "metadata": {
    "colab": {
     "base_uri": "https://localhost:8080/"
    },
    "executionInfo": {
     "elapsed": 519,
     "status": "ok",
     "timestamp": 1611487627731,
     "user": {
      "displayName": "Rohith Teja",
      "photoUrl": "https://lh3.googleusercontent.com/-nt8x4joQmgY/AAAAAAAAAAI/AAAAAAAAAvg/AbgIIUozOq0/s64/photo.jpg",
      "userId": "01155222072916958278"
     },
     "user_tz": -60
    },
    "id": "APLyft9SvPTp",
    "outputId": "537a62bd-5c1b-430d-9b90-cebcd76b647e"
   },
   "outputs": [
    {
     "name": "stderr",
     "output_type": "stream",
     "text": [
      "/usr/local/lib/python3.6/dist-packages/tensorflow/python/keras/engine/sequential.py:450: UserWarning: `model.predict_classes()` is deprecated and will be removed after 2021-01-01. Please use instead:* `np.argmax(model.predict(x), axis=-1)`,   if your model does multi-class classification   (e.g. if it uses a `softmax` last-layer activation).* `(model.predict(x) > 0.5).astype(\"int32\")`,   if your model does binary classification   (e.g. if it uses a `sigmoid` last-layer activation).\n",
      "  warnings.warn('`model.predict_classes()` is deprecated and '\n"
     ]
    }
   ],
   "source": [
    "y_pred_dnn = model.predict_classes(test)"
   ]
  },
  {
   "cell_type": "code",
   "execution_count": null,
   "metadata": {
    "id": "khvj54AzvPWI"
   },
   "outputs": [],
   "source": [
    "pred1 = pd.DataFrame(y_pred_dnn,columns=[\"dnn_pred\"])\n",
    "pred1.to_csv(\"predictions_bigdata.csv\",index=False)"
   ]
  },
  {
   "cell_type": "code",
   "execution_count": null,
   "metadata": {
    "colab": {
     "base_uri": "https://localhost:8080/"
    },
    "executionInfo": {
     "elapsed": 556,
     "status": "ok",
     "timestamp": 1611488041845,
     "user": {
      "displayName": "Rohith Teja",
      "photoUrl": "https://lh3.googleusercontent.com/-nt8x4joQmgY/AAAAAAAAAAI/AAAAAAAAAvg/AbgIIUozOq0/s64/photo.jpg",
      "userId": "01155222072916958278"
     },
     "user_tz": -60
    },
    "id": "3JHWLr8GaXZm",
    "outputId": "54ec3620-b414-4aaa-8e4b-b554b3c50efa"
   },
   "outputs": [
    {
     "data": {
      "text/plain": [
       "0    68\n",
       "1    13\n",
       "Name: dnn_pred, dtype: int64"
      ]
     },
     "execution_count": 91,
     "metadata": {
      "tags": []
     },
     "output_type": "execute_result"
    }
   ],
   "source": [
    "pred1.dnn_pred.value_counts()"
   ]
  },
  {
   "cell_type": "code",
   "execution_count": null,
   "metadata": {
    "id": "K7K-UH4GvPfo"
   },
   "outputs": [],
   "source": []
  },
  {
   "cell_type": "code",
   "execution_count": null,
   "metadata": {
    "id": "A2TALedpt8cR"
   },
   "outputs": [],
   "source": [
    "#misc "
   ]
  },
  {
   "cell_type": "code",
   "execution_count": null,
   "metadata": {
    "colab": {
     "base_uri": "https://localhost:8080/",
     "height": 265
    },
    "executionInfo": {
     "elapsed": 1139,
     "status": "ok",
     "timestamp": 1611603727067,
     "user": {
      "displayName": "Rohith Teja",
      "photoUrl": "https://lh3.googleusercontent.com/-nt8x4joQmgY/AAAAAAAAAAI/AAAAAAAAAvg/AbgIIUozOq0/s64/photo.jpg",
      "userId": "01155222072916958278"
     },
     "user_tz": -60
    },
    "id": "xN6ZfTvpt8oR",
    "outputId": "c06a2522-5b6b-4d91-a976-cd23bea6d542"
   },
   "outputs": [
    {
     "data": {
      "image/png": "[encoded data removed]",
      "text/plain": [
       "<Figure size 432x288 with 1 Axes>"
      ]
     },
     "metadata": {
      "needs_background": "light",
      "tags": []
     },
     "output_type": "display_data"
    }
   ],
   "source": [
    "# set width of bar\n",
    "barWidth = 0.25\n",
    " \n",
    "\n",
    "\n",
    "# set height of bar\n",
    "bars1 = [0.84,0.89,0.96,0.95,0.96,1.00]\n",
    "bars2 = [0.92,0.89,0.95,0.95,0.95,0.93]\n",
    "bars3 = [0.89,0.93,0.96,0.91,0.95,0.93]\n",
    " \n",
    "# Set position of bar on X axis\n",
    "r1 = np.arange(len(bars1))\n",
    "r2 = [x + barWidth for x in r1]\n",
    "r3 = [x + barWidth for x in r2]\n",
    " \n",
    "# Make the plot\n",
    "plt.bar(r1, bars1, width=barWidth, edgecolor='white', label='Case 1')\n",
    "plt.bar(r2, bars2, width=barWidth, edgecolor='white', label='Case 2')\n",
    "plt.bar(r3, bars3, width=barWidth, edgecolor='white', label='Case 3')\n",
    " \n",
    "# Add xticks on the middle of the group bars\n",
    "plt.ylabel('F1 Scores', fontweight='bold')\n",
    "plt.xticks([r + barWidth for r in range(len(bars1))], ['Naives-Bayes', 'KNN', 'SVM', 'Dec. Tree', 'R. Forest', \"MLP\"])\n",
    " \n",
    "# Create legend & Show graphic\n",
    "plt.legend()\n",
    "plt.savefig(\"f1score\", bbox_inches='tight',dpi = 200)\n"
   ]
  },
  {
   "cell_type": "code",
   "execution_count": null,
   "metadata": {
    "colab": {
     "base_uri": "https://localhost:8080/",
     "height": 401
    },
    "executionInfo": {
     "elapsed": 3158,
     "status": "ok",
     "timestamp": 1611605166857,
     "user": {
      "displayName": "Rohith Teja",
      "photoUrl": "https://lh3.googleusercontent.com/-nt8x4joQmgY/AAAAAAAAAAI/AAAAAAAAAvg/AbgIIUozOq0/s64/photo.jpg",
      "userId": "01155222072916958278"
     },
     "user_tz": -60
    },
    "id": "cepNEwnMt9DV",
    "outputId": "4e96953e-8522-4223-e06c-467d929d88fa"
   },
   "outputs": [
    {
     "name": "stdout",
     "output_type": "stream",
     "text": [
      "[t-SNE] Computing 121 nearest neighbors...\n",
      "[t-SNE] Indexed 686 samples in 0.012s...\n",
      "[t-SNE] Computed neighbors for 686 samples in 0.149s...\n",
      "[t-SNE] Computed conditional probabilities for sample 686 / 686\n",
      "[t-SNE] Mean sigma: 3.220567\n",
      "[t-SNE] KL divergence after 250 iterations with early exaggeration: 70.282059\n",
      "[t-SNE] KL divergence after 300 iterations: 1.038908\n"
     ]
    },
    {
     "data": {
      "text/plain": [
       "<matplotlib.collections.PathCollection at 0x7f28055a53c8>"
      ]
     },
     "execution_count": 66,
     "metadata": {
      "tags": []
     },
     "output_type": "execute_result"
    },
    {
     "data": {
      "image/png": "[encoded data removed]",
      "text/plain": [
       "<Figure size 432x288 with 1 Axes>"
      ]
     },
     "metadata": {
      "needs_background": "light",
      "tags": []
     },
     "output_type": "display_data"
    }
   ],
   "source": [
    "from sklearn.manifold import TSNE\n",
    "tsne = TSNE(n_components=2, verbose=1, perplexity=40, n_iter=300)\n",
    "tsne_results = tsne.fit_transform(x)\n",
    "\n",
    "a = tsne_results[:,0]\n",
    "b = tsne_results[:,1]\n",
    "\n"
   ]
  },
  {
   "cell_type": "code",
   "execution_count": null,
   "metadata": {
    "colab": {
     "base_uri": "https://localhost:8080/",
     "height": 265
    },
    "executionInfo": {
     "elapsed": 1056,
     "status": "ok",
     "timestamp": 1611606427572,
     "user": {
      "displayName": "Rohith Teja",
      "photoUrl": "https://lh3.googleusercontent.com/-nt8x4joQmgY/AAAAAAAAAAI/AAAAAAAAAvg/AbgIIUozOq0/s64/photo.jpg",
      "userId": "01155222072916958278"
     },
     "user_tz": -60
    },
    "id": "UWafXkAKt9IE",
    "outputId": "f7f58558-4e81-4292-ed20-7f808f48f644"
   },
   "outputs": [
    {
     "data": {
      "image/png": "[encoded data removed]",
      "text/plain": [
       "<Figure size 432x288 with 1 Axes>"
      ]
     },
     "metadata": {
      "needs_background": "light",
      "tags": []
     },
     "output_type": "display_data"
    }
   ],
   "source": [
    "plt.scatter(aa.a,aa.b,c=\"b\",s=10,label=\"not-spam\")\n",
    "plt.scatter(bb.a,bb.b,c=\"r\",s=10,label=\"spam\")\n",
    "plt.legend()\n",
    "plt.savefig(\"tsne\", bbox_inches='tight',dpi = 200)"
   ]
  },
  {
   "cell_type": "code",
   "execution_count": null,
   "metadata": {
    "id": "2KyUpTIuNP5i"
   },
   "outputs": [],
   "source": []
  },
  {
   "cell_type": "code",
   "execution_count": null,
   "metadata": {
    "id": "IBZuEXyAN5NZ"
   },
   "outputs": [],
   "source": []
  },
  {
   "cell_type": "code",
   "execution_count": null,
   "metadata": {
    "id": "W6xzAWXjN5VX"
   },
   "outputs": [],
   "source": []
  },
  {
   "cell_type": "code",
   "execution_count": null,
   "metadata": {
    "id": "Fvipzr1QN5Xr"
   },
   "outputs": [],
   "source": []
  },
  {
   "cell_type": "code",
   "execution_count": null,
   "metadata": {
    "id": "XZ0H472TN5aQ"
   },
   "outputs": [],
   "source": []
  },
  {
   "cell_type": "code",
   "execution_count": null,
   "metadata": {
    "id": "sOD9hEayN5cw"
   },
   "outputs": [],
   "source": []
  },
  {
   "cell_type": "code",
   "execution_count": null,
   "metadata": {
    "id": "GfJQkBj5N5fP"
   },
   "outputs": [],
   "source": []
  }
 ],
 "metadata": {
  "colab": {
   "authorship_tag": "ABX9TyOOTmNjE+GU6FCFqkFbx7Oq",
   "collapsed_sections": [],
   "mount_file_id": "1sKCmZrnubSUEhaWKO-g6udh0s0BADgGL",
   "name": "Social_spam_Case_1.ipynb",
   "provenance": []
  },
  "kernelspec": {
   "display_name": "Python 3",
   "language": "python",
   "name": "python3"
  },
  "language_info": {
   "codemirror_mode": {
    "name": "ipython",
    "version": 3
   },
   "file_extension": ".py",
   "mimetype": "text/x-python",
   "name": "python",
   "nbconvert_exporter": "python",
   "pygments_lexer": "ipython3",
   "version": "3.8.3"
  }
 },
 "nbformat": 4,
 "nbformat_minor": 1
}
