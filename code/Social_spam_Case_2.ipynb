{
 "cells": [
  {
   "cell_type": "code",
   "execution_count": null,
   "metadata": {
    "id": "Qw9QP4taC4yJ"
   },
   "outputs": [],
   "source": [
    "import pandas as pd\n",
    "from sklearn.model_selection import GridSearchCV, StratifiedKFold, train_test_split\n",
    "import numpy as np\n",
    "from sklearn.svm import SVC\n",
    "from sklearn.datasets import make_classification\n",
    "from sklearn.feature_selection import SelectKBest\n",
    "from sklearn.feature_selection import f_classif\n",
    "from sklearn.model_selection import cross_val_score\n",
    "from sklearn.preprocessing import StandardScaler\n",
    "from sklearn.metrics import accuracy_score, f1_score, classification_report\n",
    "from sklearn.naive_bayes import GaussianNB\n",
    "from sklearn.neighbors import KNeighborsClassifier\n",
    "from keras.models import Sequential\n",
    "from keras.layers import Dense\n",
    "from keras.wrappers.scikit_learn import KerasClassifier\n",
    "from sklearn.preprocessing import LabelEncoder\n",
    "from sklearn.ensemble import RandomForestClassifier\n",
    "from sklearn.tree import DecisionTreeClassifier\n",
    "from sklearn.svm import SVC"
   ]
  },
  {
   "cell_type": "code",
   "execution_count": null,
   "metadata": {
    "id": "3pbjRi6MC40m"
   },
   "outputs": [],
   "source": [
    "# read data and merge the train and test with features\n",
    "\n",
    "coded_id = pd.read_csv(\"users/coded_ids.csv\")\n",
    "features = pd.read_csv(\"users_features/features.csv\")\n",
    "users = pd.merge(features, coded_id, on='user_id', how='left')\n",
    "\n",
    "train = pd.read_csv(\"users/coded_ids_labels_train.csv\")\n",
    "test = pd.read_csv(\"users/coded_ids_labels_test.csv\")\n",
    "train = pd.merge(users, train, on='coded_id', how='right')\n",
    "test = pd.merge(users, test, on='coded_id', how='right')"
   ]
  },
  {
   "cell_type": "code",
   "execution_count": null,
   "metadata": {
    "colab": {
     "base_uri": "https://localhost:8080/"
    },
    "executionInfo": {
     "elapsed": 15019,
     "status": "ok",
     "timestamp": 1610318717887,
     "user": {
      "displayName": "Rohith Teja",
      "photoUrl": "https://lh3.googleusercontent.com/-nt8x4joQmgY/AAAAAAAAAAI/AAAAAAAAAvg/AbgIIUozOq0/s64/photo.jpg",
      "userId": "01155222072916958278"
     },
     "user_tz": -60
    },
    "id": "xNKWnDwSqgB7",
    "outputId": "400275d1-2c3a-44cd-d76e-87ff005edcdc"
   },
   "outputs": [
    {
     "data": {
      "text/plain": [
       "(686, 147)"
      ]
     },
     "execution_count": 7,
     "metadata": {
      "tags": []
     },
     "output_type": "execute_result"
    }
   ],
   "source": [
    "train.shape"
   ]
  },
  {
   "cell_type": "code",
   "execution_count": null,
   "metadata": {
    "colab": {
     "base_uri": "https://localhost:8080/"
    },
    "executionInfo": {
     "elapsed": 14429,
     "status": "ok",
     "timestamp": 1610318717888,
     "user": {
      "displayName": "Rohith Teja",
      "photoUrl": "https://lh3.googleusercontent.com/-nt8x4joQmgY/AAAAAAAAAAI/AAAAAAAAAvg/AbgIIUozOq0/s64/photo.jpg",
      "userId": "01155222072916958278"
     },
     "user_tz": -60
    },
    "id": "OIzQr7e3qkJ8",
    "outputId": "6432d8e0-4114-4bf2-f93d-535faa67ca41"
   },
   "outputs": [
    {
     "data": {
      "text/plain": [
       "(81, 147)"
      ]
     },
     "execution_count": 8,
     "metadata": {
      "tags": []
     },
     "output_type": "execute_result"
    }
   ],
   "source": [
    "test.shape"
   ]
  },
  {
   "cell_type": "code",
   "execution_count": null,
   "metadata": {
    "id": "NDFx7KGNC45G"
   },
   "outputs": [],
   "source": [
    "#cleaning train dataset\n",
    "\n",
    "#remove columns with na values\n",
    "nacolumns = train.columns[train.isna().any()].tolist()\n",
    "train.drop(columns = nacolumns,inplace=True)\n",
    "train.dropna(axis=0,inplace=True)\n",
    "\n",
    "#remove unwanted category columns like time and IDs\n",
    "unwanted = [\"default_profile\",\"default_profile_image\",\"avg_intertweet_times\",\"date_newest_tweet\",\"lang\",\"min_intertweet_times\",\"std_nb_symbols_per_tweet\",\"std_nb_symbols_per_word_in_the_tweet\",\"date_oldest_tweet\",\"max_intertweet_times\",\"max_nb_symbols_per_tweet\",\"max_nb_symbols_per_word_in_the_tweet\",\"std_intertweet_times\",\"user_id\",\"coded_id\"]\n",
    "train.drop(columns=unwanted,inplace=True)\n",
    "\n",
    "#remove columns like \n",
    "allzero_cols = list(train.loc[:,(train==0).all()].columns)\n",
    "train.drop(columns=allzero_cols,inplace=True)\n"
   ]
  },
  {
   "cell_type": "code",
   "execution_count": null,
   "metadata": {
    "id": "wUteNoNdPD1l"
   },
   "outputs": [],
   "source": [
    "#split data into x features and labels\n",
    "x = train.iloc[:,:124]\n",
    "\n",
    "#normalizing dataset\n",
    "scale = StandardScaler()\n",
    "x = scale.fit_transform(x)\n",
    "\n",
    "y = train.label\n"
   ]
  },
  {
   "cell_type": "code",
   "execution_count": null,
   "metadata": {
    "id": "tBX2E0BCwF1D"
   },
   "outputs": [],
   "source": [
    "x1 = pd.DataFrame(x,columns=list(train.iloc[:,:124].columns))"
   ]
  },
  {
   "cell_type": "code",
   "execution_count": null,
   "metadata": {
    "id": "UFqYhaF3vzQC"
   },
   "outputs": [],
   "source": [
    "# feature selection\n",
    "\n",
    "# Numerical Input, Categorical Output\n",
    "\n",
    "# ANOVA feature selection for numeric input and categorical output\n",
    "\n",
    "\n",
    "# define feature selection\n",
    "\n",
    "def feature_selction(k):\n",
    "  fs = SelectKBest(score_func=f_classif, k=k)\n",
    "  # apply feature selection\n",
    "  X_selected = fs.fit_transform(x1, y)\n",
    "\n",
    "  model = SVC()\n",
    "  return cross_val_score(model, X_selected, y, cv=10).mean()"
   ]
  },
  {
   "cell_type": "code",
   "execution_count": null,
   "metadata": {
    "colab": {
     "base_uri": "https://localhost:8080/"
    },
    "executionInfo": {
     "elapsed": 1368,
     "status": "ok",
     "timestamp": 1611602026236,
     "user": {
      "displayName": "Rohith Teja",
      "photoUrl": "https://lh3.googleusercontent.com/-nt8x4joQmgY/AAAAAAAAAAI/AAAAAAAAAvg/AbgIIUozOq0/s64/photo.jpg",
      "userId": "01155222072916958278"
     },
     "user_tz": -60
    },
    "id": "ObrjDylNvzWK",
    "outputId": "4aedf32f-15ed-4072-9de6-5afb72ad4bd9"
   },
   "outputs": [
    {
     "name": "stdout",
     "output_type": "stream",
     "text": [
      "Best k value =  7\n"
     ]
    }
   ],
   "source": [
    "#selecting best k\n",
    "kval = []\n",
    "for i in np.arange(1,10):\n",
    "  kval.append(feature_selction(i))\n",
    "print(\"Best k value = \",np.argmax(np.array(kval))+1)"
   ]
  },
  {
   "cell_type": "code",
   "execution_count": null,
   "metadata": {
    "id": "sgf1XUwcw1DK"
   },
   "outputs": [],
   "source": [
    "fs = SelectKBest(score_func=f_classif, k=7)\n",
    "# apply feature selection\n",
    "X_selected = fs.fit_transform(x1, y)\n",
    "\n",
    "x_train, x_test, y_train, y_test = train_test_split(X_selected,y ,stratify=y, test_size=0.15,random_state=1)"
   ]
  },
  {
   "cell_type": "code",
   "execution_count": null,
   "metadata": {
    "id": "g3yGlaJzvzYj"
   },
   "outputs": [],
   "source": [
    "#saving k scores and p values\n",
    "k_scores = dict(zip(np.array(x1.columns), fs.scores_))\n",
    "p_values = dict(zip(np.array(x1.columns), fs.pvalues_))"
   ]
  },
  {
   "cell_type": "code",
   "execution_count": null,
   "metadata": {
    "colab": {
     "base_uri": "https://localhost:8080/"
    },
    "executionInfo": {
     "elapsed": 736,
     "status": "ok",
     "timestamp": 1610366085661,
     "user": {
      "displayName": "Rohith Teja",
      "photoUrl": "https://lh3.googleusercontent.com/-nt8x4joQmgY/AAAAAAAAAAI/AAAAAAAAAvg/AbgIIUozOq0/s64/photo.jpg",
      "userId": "01155222072916958278"
     },
     "user_tz": -60
    },
    "id": "LsYOZpzfvzbD",
    "outputId": "bc2e4d33-ee35-4f3a-c59f-9dd85a5fb239"
   },
   "outputs": [
    {
     "data": {
      "text/plain": [
       "[('nb_urls', 397.1617993031366),\n",
       " ('time_since_newest_tweet_days', 266.2826317807146),\n",
       " ('time_since_newest_tweet_months', 266.2826317807146),\n",
       " ('std_nb_mentions_per_tweet', 245.68170569412314),\n",
       " ('replicates', 233.25624264480152),\n",
       " ('max_nb_mentions_per_word_in_the_tweet', 199.26034667985917),\n",
       " ('age', 183.9040198072115)]"
      ]
     },
     "execution_count": 14,
     "metadata": {
      "tags": []
     },
     "output_type": "execute_result"
    }
   ],
   "source": [
    "sorted(k_scores.items(), key=lambda x: x[1], reverse=True)[0:7] #highest k values"
   ]
  },
  {
   "cell_type": "code",
   "execution_count": null,
   "metadata": {
    "colab": {
     "base_uri": "https://localhost:8080/"
    },
    "executionInfo": {
     "elapsed": 745,
     "status": "ok",
     "timestamp": 1610366088940,
     "user": {
      "displayName": "Rohith Teja",
      "photoUrl": "https://lh3.googleusercontent.com/-nt8x4joQmgY/AAAAAAAAAAI/AAAAAAAAAvg/AbgIIUozOq0/s64/photo.jpg",
      "userId": "01155222072916958278"
     },
     "user_tz": -60
    },
    "id": "Dpm2a-G2vzdL",
    "outputId": "686d3706-0e40-414e-a876-a8630727c44e"
   },
   "outputs": [
    {
     "data": {
      "text/plain": [
       "[('nb_urls', 5.0026637930277233e-70),\n",
       " ('time_since_newest_tweet_days', 8.36428750998715e-51),\n",
       " ('time_since_newest_tweet_months', 8.36428750998715e-51),\n",
       " ('std_nb_mentions_per_tweet', 1.5500662220554471e-47),\n",
       " ('replicates', 1.5744194306177066e-45),\n",
       " ('max_nb_mentions_per_word_in_the_tweet', 6.7964228278701985e-40),\n",
       " ('age', 2.823158743194214e-37)]"
      ]
     },
     "execution_count": 15,
     "metadata": {
      "tags": []
     },
     "output_type": "execute_result"
    }
   ],
   "source": [
    "sorted(p_values.items(), key=lambda x: x[1], reverse=False)[0:7] #lowest p values"
   ]
  },
  {
   "cell_type": "code",
   "execution_count": null,
   "metadata": {
    "id": "_b7DQKoDkQtL"
   },
   "outputs": [],
   "source": [
    "def grid_search(model,params):\n",
    "  skf = StratifiedKFold(n_splits=10)\n",
    "  gs = GridSearchCV(model, cv=skf, param_grid=params, return_train_score=True)\n",
    "  gs.fit(x_train, y_train)\n",
    "  print(\"best params = \",gs.best_params_)\n",
    "  print(\"best score =\",gs.best_score_)"
   ]
  },
  {
   "cell_type": "code",
   "execution_count": null,
   "metadata": {
    "colab": {
     "base_uri": "https://localhost:8080/"
    },
    "executionInfo": {
     "elapsed": 550,
     "status": "ok",
     "timestamp": 1611602041634,
     "user": {
      "displayName": "Rohith Teja",
      "photoUrl": "https://lh3.googleusercontent.com/-nt8x4joQmgY/AAAAAAAAAAI/AAAAAAAAAvg/AbgIIUozOq0/s64/photo.jpg",
      "userId": "01155222072916958278"
     },
     "user_tz": -60
    },
    "id": "ZGoTTi3DfzXt",
    "outputId": "931e1cf8-1b3a-4f2c-eb16-b5da8f25a46a"
   },
   "outputs": [
    {
     "name": "stdout",
     "output_type": "stream",
     "text": [
      "best params =  {'var_smoothing': 0.1}\n",
      "best score = 0.9450029222676797\n"
     ]
    }
   ],
   "source": [
    "#naives bayes\n",
    "from sklearn.naive_bayes import GaussianNB\n",
    "\n",
    "model = GaussianNB()\n",
    "params = {\"var_smoothing\":[1,0.1,1e-2]}\n",
    "\n",
    "grid_search(model,params)"
   ]
  },
  {
   "cell_type": "code",
   "execution_count": null,
   "metadata": {
    "colab": {
     "base_uri": "https://localhost:8080/"
    },
    "executionInfo": {
     "elapsed": 540,
     "status": "ok",
     "timestamp": 1611602044560,
     "user": {
      "displayName": "Rohith Teja",
      "photoUrl": "https://lh3.googleusercontent.com/-nt8x4joQmgY/AAAAAAAAAAI/AAAAAAAAAvg/AbgIIUozOq0/s64/photo.jpg",
      "userId": "01155222072916958278"
     },
     "user_tz": -60
    },
    "id": "W51I8XKSfzcj",
    "outputId": "51e29fe5-6035-49d8-ab4b-7e8ef0684b4d"
   },
   "outputs": [
    {
     "name": "stdout",
     "output_type": "stream",
     "text": [
      "Model train accuracy score: 0.9468\n",
      "              precision    recall  f1-score   support\n",
      "\n",
      "           0       0.98      0.96      0.97        85\n",
      "           1       0.84      0.89      0.86        18\n",
      "\n",
      "    accuracy                           0.95       103\n",
      "   macro avg       0.91      0.93      0.92       103\n",
      "weighted avg       0.95      0.95      0.95       103\n",
      "\n"
     ]
    }
   ],
   "source": [
    "#naives bayes test\n",
    "\n",
    "\n",
    "model = GaussianNB(var_smoothing=0.1)\n",
    "model.fit(x_train, y_train)\n",
    "y_pred_train = model.predict(x_train)\n",
    "y_pred_test = model.predict(x_test)\n",
    "print('Model train accuracy score: {0:0.4f}'. format(accuracy_score(y_train, y_pred_train)))\n",
    "print(classification_report(y_test, y_pred_test))"
   ]
  },
  {
   "cell_type": "code",
   "execution_count": null,
   "metadata": {
    "colab": {
     "base_uri": "https://localhost:8080/"
    },
    "executionInfo": {
     "elapsed": 4896,
     "status": "ok",
     "timestamp": 1611602053288,
     "user": {
      "displayName": "Rohith Teja",
      "photoUrl": "https://lh3.googleusercontent.com/-nt8x4joQmgY/AAAAAAAAAAI/AAAAAAAAAvg/AbgIIUozOq0/s64/photo.jpg",
      "userId": "01155222072916958278"
     },
     "user_tz": -60
    },
    "id": "jX_BENgXk_L7",
    "outputId": "d792ece0-9cbc-47fd-9dce-f5216075fbbe"
   },
   "outputs": [
    {
     "name": "stdout",
     "output_type": "stream",
     "text": [
      "best params =  {'n_neighbors': 6}\n",
      "best score = 0.9571595558153125\n"
     ]
    }
   ],
   "source": [
    "#knn\n",
    "\n",
    "model = KNeighborsClassifier()\n",
    "params = {\"n_neighbors\":[i for i in range(1,20)]}\n",
    "\n",
    "grid_search(model,params)"
   ]
  },
  {
   "cell_type": "code",
   "execution_count": null,
   "metadata": {
    "colab": {
     "base_uri": "https://localhost:8080/"
    },
    "executionInfo": {
     "elapsed": 547,
     "status": "ok",
     "timestamp": 1611602061560,
     "user": {
      "displayName": "Rohith Teja",
      "photoUrl": "https://lh3.googleusercontent.com/-nt8x4joQmgY/AAAAAAAAAAI/AAAAAAAAAvg/AbgIIUozOq0/s64/photo.jpg",
      "userId": "01155222072916958278"
     },
     "user_tz": -60
    },
    "id": "PBJ4-7YTk_OK",
    "outputId": "14dfe2ad-fcac-44d3-b3e2-7df03471bfe0"
   },
   "outputs": [
    {
     "name": "stdout",
     "output_type": "stream",
     "text": [
      "Model train accuracy score: 0.9605\n",
      "              precision    recall  f1-score   support\n",
      "\n",
      "           0       0.94      0.99      0.97        85\n",
      "           1       0.93      0.72      0.81        18\n",
      "\n",
      "    accuracy                           0.94       103\n",
      "   macro avg       0.94      0.86      0.89       103\n",
      "weighted avg       0.94      0.94      0.94       103\n",
      "\n"
     ]
    }
   ],
   "source": [
    "#knn test\n",
    "\n",
    "model = KNeighborsClassifier(n_neighbors=6)\n",
    "model.fit(x_train, y_train)\n",
    "y_pred_train = model.predict(x_train)\n",
    "y_pred_test = model.predict(x_test)\n",
    "print('Model train accuracy score: {0:0.4f}'. format(accuracy_score(y_train, y_pred_train)))\n",
    "print(classification_report(y_test, y_pred_test))"
   ]
  },
  {
   "cell_type": "code",
   "execution_count": null,
   "metadata": {
    "colab": {
     "base_uri": "https://localhost:8080/"
    },
    "executionInfo": {
     "elapsed": 1419,
     "status": "ok",
     "timestamp": 1611602065899,
     "user": {
      "displayName": "Rohith Teja",
      "photoUrl": "https://lh3.googleusercontent.com/-nt8x4joQmgY/AAAAAAAAAAI/AAAAAAAAAvg/AbgIIUozOq0/s64/photo.jpg",
      "userId": "01155222072916958278"
     },
     "user_tz": -60
    },
    "id": "5mEtvEO3k_TH",
    "outputId": "23db46ef-e3eb-4554-a1a7-0c82dc9fde1c"
   },
   "outputs": [
    {
     "name": "stdout",
     "output_type": "stream",
     "text": [
      "best params =  {'C': 1, 'kernel': 'rbf'}\n",
      "best score = 0.9621858562244302\n"
     ]
    }
   ],
   "source": [
    "#svm\n",
    "\n",
    "\n",
    "model = SVC()\n",
    "params = {\"C\":[0.1,1,10],\n",
    "          \"kernel\":[\"linear\", \"poly\", \"rbf\", \"sigmoid\"]}\n",
    "grid_search(model,params)"
   ]
  },
  {
   "cell_type": "code",
   "execution_count": null,
   "metadata": {
    "colab": {
     "base_uri": "https://localhost:8080/"
    },
    "executionInfo": {
     "elapsed": 553,
     "status": "ok",
     "timestamp": 1611602074381,
     "user": {
      "displayName": "Rohith Teja",
      "photoUrl": "https://lh3.googleusercontent.com/-nt8x4joQmgY/AAAAAAAAAAI/AAAAAAAAAvg/AbgIIUozOq0/s64/photo.jpg",
      "userId": "01155222072916958278"
     },
     "user_tz": -60
    },
    "id": "93ARpqhMk_n6",
    "outputId": "ea02deb0-4459-4b54-fd62-7e207f176d87"
   },
   "outputs": [
    {
     "name": "stdout",
     "output_type": "stream",
     "text": [
      "Model train accuracy score: 0.9743\n",
      "              precision    recall  f1-score   support\n",
      "\n",
      "           0       0.98      0.99      0.98        85\n",
      "           1       0.94      0.89      0.91        18\n",
      "\n",
      "    accuracy                           0.97       103\n",
      "   macro avg       0.96      0.94      0.95       103\n",
      "weighted avg       0.97      0.97      0.97       103\n",
      "\n"
     ]
    }
   ],
   "source": [
    "#svm test\n",
    "\n",
    "model = SVC(C=1,kernel=\"rbf\")\n",
    "model.fit(x_train, y_train)\n",
    "y_pred_train = model.predict(x_train)\n",
    "y_pred_test = model.predict(x_test)\n",
    "print('Model train accuracy score: {0:0.4f}'. format(accuracy_score(y_train, y_pred_train)))\n",
    "print(classification_report(y_test, y_pred_test))"
   ]
  },
  {
   "cell_type": "code",
   "execution_count": null,
   "metadata": {
    "colab": {
     "base_uri": "https://localhost:8080/"
    },
    "executionInfo": {
     "elapsed": 17476,
     "status": "ok",
     "timestamp": 1611602095104,
     "user": {
      "displayName": "Rohith Teja",
      "photoUrl": "https://lh3.googleusercontent.com/-nt8x4joQmgY/AAAAAAAAAAI/AAAAAAAAAvg/AbgIIUozOq0/s64/photo.jpg",
      "userId": "01155222072916958278"
     },
     "user_tz": -60
    },
    "id": "MQHznOyMk_qa",
    "outputId": "cd869619-232a-4bfd-f666-7b87a5bad6d0"
   },
   "outputs": [
    {
     "name": "stdout",
     "output_type": "stream",
     "text": [
      "best params =  {'criterion': 'entropy', 'max_depth': 4, 'min_samples_leaf': 1, 'min_samples_split': 8}\n",
      "best score = 0.9674167153711279\n"
     ]
    }
   ],
   "source": [
    "#decision tree\n",
    "\n",
    "\n",
    "model = DecisionTreeClassifier()\n",
    "params = {\"criterion\":[\"gini\",\"entropy\"],\n",
    "          \"max_depth\":range(1,10),\n",
    "          \"min_samples_split\":range(2,10),\n",
    "          \"min_samples_leaf\":range(1,5)}\n",
    "grid_search(model,params)"
   ]
  },
  {
   "cell_type": "code",
   "execution_count": null,
   "metadata": {
    "colab": {
     "base_uri": "https://localhost:8080/"
    },
    "executionInfo": {
     "elapsed": 596,
     "status": "ok",
     "timestamp": 1611602107533,
     "user": {
      "displayName": "Rohith Teja",
      "photoUrl": "https://lh3.googleusercontent.com/-nt8x4joQmgY/AAAAAAAAAAI/AAAAAAAAAvg/AbgIIUozOq0/s64/photo.jpg",
      "userId": "01155222072916958278"
     },
     "user_tz": -60
    },
    "id": "_hPPqdiMk_tE",
    "outputId": "4d220fe3-9d01-4856-878b-9229236ee867"
   },
   "outputs": [
    {
     "name": "stdout",
     "output_type": "stream",
     "text": [
      "Model train accuracy score: 0.9811\n",
      "              precision    recall  f1-score   support\n",
      "\n",
      "           0       0.98      0.99      0.98        85\n",
      "           1       0.94      0.89      0.91        18\n",
      "\n",
      "    accuracy                           0.97       103\n",
      "   macro avg       0.96      0.94      0.95       103\n",
      "weighted avg       0.97      0.97      0.97       103\n",
      "\n"
     ]
    }
   ],
   "source": [
    "#decision tree test\n",
    "\n",
    "model = DecisionTreeClassifier(criterion=\"entropy\",max_depth=4,min_samples_leaf=1,min_samples_split=8)\n",
    "model.fit(x_train, y_train)\n",
    "y_pred_train = model.predict(x_train)\n",
    "y_pred_test = model.predict(x_test)\n",
    "print('Model train accuracy score: {0:0.4f}'. format(accuracy_score(y_train, y_pred_train)))\n",
    "print(classification_report(y_test, y_pred_test))"
   ]
  },
  {
   "cell_type": "code",
   "execution_count": null,
   "metadata": {
    "colab": {
     "base_uri": "https://localhost:8080/"
    },
    "executionInfo": {
     "elapsed": 357117,
     "status": "ok",
     "timestamp": 1611602467769,
     "user": {
      "displayName": "Rohith Teja",
      "photoUrl": "https://lh3.googleusercontent.com/-nt8x4joQmgY/AAAAAAAAAAI/AAAAAAAAAvg/AbgIIUozOq0/s64/photo.jpg",
      "userId": "01155222072916958278"
     },
     "user_tz": -60
    },
    "id": "n8EyNey-k_u5",
    "outputId": "ebb30532-04fb-4608-9ade-79b5e4c2ec2e"
   },
   "outputs": [
    {
     "name": "stdout",
     "output_type": "stream",
     "text": [
      "best params =  {'criterion': 'gini', 'max_depth': 8, 'max_features': 'sqrt', 'n_estimators': 500}\n",
      "best score = 0.9673874926943309\n"
     ]
    }
   ],
   "source": [
    "#random forest\n",
    "\n",
    "model = RandomForestClassifier()\n",
    "params = { \n",
    "    'n_estimators': [200, 500],\n",
    "    'max_features': ['auto', 'sqrt', 'log2'],\n",
    "    'max_depth' : [4,5,6,7,8],\n",
    "    'criterion' :['gini', 'entropy']\n",
    "}\n",
    "grid_search(model,params)"
   ]
  },
  {
   "cell_type": "code",
   "execution_count": null,
   "metadata": {
    "colab": {
     "base_uri": "https://localhost:8080/"
    },
    "executionInfo": {
     "elapsed": 1452,
     "status": "ok",
     "timestamp": 1611602712477,
     "user": {
      "displayName": "Rohith Teja",
      "photoUrl": "https://lh3.googleusercontent.com/-nt8x4joQmgY/AAAAAAAAAAI/AAAAAAAAAvg/AbgIIUozOq0/s64/photo.jpg",
      "userId": "01155222072916958278"
     },
     "user_tz": -60
    },
    "id": "fLbaPIsXfzev",
    "outputId": "b6a4e223-695c-4eb6-c744-2be9245e69e1"
   },
   "outputs": [
    {
     "name": "stdout",
     "output_type": "stream",
     "text": [
      "Model train accuracy score: 1.0000\n",
      "              precision    recall  f1-score   support\n",
      "\n",
      "           0       0.98      0.99      0.98        85\n",
      "           1       0.94      0.89      0.91        18\n",
      "\n",
      "    accuracy                           0.97       103\n",
      "   macro avg       0.96      0.94      0.95       103\n",
      "weighted avg       0.97      0.97      0.97       103\n",
      "\n"
     ]
    }
   ],
   "source": [
    "#random forest test\n",
    "\n",
    "model = RandomForestClassifier(criterion=\"gini\",max_depth=8,max_features=\"sqrt\",n_estimators=500)\n",
    "model.fit(x_train, y_train)\n",
    "y_pred_train = model.predict(x_train)\n",
    "y_pred_test = model.predict(x_test)\n",
    "print('Model train accuracy score: {0:0.4f}'. format(accuracy_score(y_train, y_pred_train)))\n",
    "print(classification_report(y_test, y_pred_test))"
   ]
  },
  {
   "cell_type": "code",
   "execution_count": null,
   "metadata": {
    "colab": {
     "base_uri": "https://localhost:8080/"
    },
    "executionInfo": {
     "elapsed": 691,
     "status": "ok",
     "timestamp": 1610324542381,
     "user": {
      "displayName": "Rohith Teja",
      "photoUrl": "https://lh3.googleusercontent.com/-nt8x4joQmgY/AAAAAAAAAAI/AAAAAAAAAvg/AbgIIUozOq0/s64/photo.jpg",
      "userId": "01155222072916958278"
     },
     "user_tz": -60
    },
    "id": "8p-KJVfkkM0w",
    "outputId": "d19af0c5-61a9-42d4-a57a-b99d0937ec81"
   },
   "outputs": [
    {
     "data": {
      "text/plain": [
       "(583, 7)"
      ]
     },
     "execution_count": 69,
     "metadata": {
      "tags": []
     },
     "output_type": "execute_result"
    }
   ],
   "source": [
    "x_train.shape"
   ]
  },
  {
   "cell_type": "code",
   "execution_count": null,
   "metadata": {
    "colab": {
     "base_uri": "https://localhost:8080/"
    },
    "executionInfo": {
     "elapsed": 11402,
     "status": "ok",
     "timestamp": 1611602729024,
     "user": {
      "displayName": "Rohith Teja",
      "photoUrl": "https://lh3.googleusercontent.com/-nt8x4joQmgY/AAAAAAAAAAI/AAAAAAAAAvg/AbgIIUozOq0/s64/photo.jpg",
      "userId": "01155222072916958278"
     },
     "user_tz": -60
    },
    "id": "EvQ7G1xPrhkc",
    "outputId": "28335386-a3db-447f-f19a-699505e0b3c6"
   },
   "outputs": [
    {
     "name": "stdout",
     "output_type": "stream",
     "text": [
      "Epoch 1/100\n",
      "59/59 [==============================] - 1s 1ms/step - loss: 0.6186 - accuracy: 0.7408\n",
      "Epoch 2/100\n",
      "59/59 [==============================] - 0s 1ms/step - loss: 0.3638 - accuracy: 0.9694\n",
      "Epoch 3/100\n",
      "59/59 [==============================] - 0s 2ms/step - loss: 0.2455 - accuracy: 0.9620\n",
      "Epoch 4/100\n",
      "59/59 [==============================] - 0s 1ms/step - loss: 0.1916 - accuracy: 0.9569\n",
      "Epoch 5/100\n",
      "59/59 [==============================] - 0s 2ms/step - loss: 0.1692 - accuracy: 0.9428\n",
      "Epoch 6/100\n",
      "59/59 [==============================] - 0s 2ms/step - loss: 0.1222 - accuracy: 0.9731\n",
      "Epoch 7/100\n",
      "59/59 [==============================] - 0s 2ms/step - loss: 0.1367 - accuracy: 0.9581\n",
      "Epoch 8/100\n",
      "59/59 [==============================] - 0s 2ms/step - loss: 0.1409 - accuracy: 0.9607\n",
      "Epoch 9/100\n",
      "59/59 [==============================] - 0s 2ms/step - loss: 0.1366 - accuracy: 0.9564\n",
      "Epoch 10/100\n",
      "59/59 [==============================] - 0s 2ms/step - loss: 0.1030 - accuracy: 0.9650\n",
      "Epoch 11/100\n",
      "59/59 [==============================] - 0s 2ms/step - loss: 0.1256 - accuracy: 0.9613\n",
      "Epoch 12/100\n",
      "59/59 [==============================] - 0s 1ms/step - loss: 0.1317 - accuracy: 0.9494\n",
      "Epoch 13/100\n",
      "59/59 [==============================] - 0s 2ms/step - loss: 0.1025 - accuracy: 0.9660\n",
      "Epoch 14/100\n",
      "59/59 [==============================] - 0s 2ms/step - loss: 0.1309 - accuracy: 0.9518\n",
      "Epoch 15/100\n",
      "59/59 [==============================] - 0s 2ms/step - loss: 0.0912 - accuracy: 0.9720\n",
      "Epoch 16/100\n",
      "59/59 [==============================] - 0s 2ms/step - loss: 0.0907 - accuracy: 0.9624\n",
      "Epoch 17/100\n",
      "59/59 [==============================] - 0s 2ms/step - loss: 0.0917 - accuracy: 0.9648\n",
      "Epoch 18/100\n",
      "59/59 [==============================] - 0s 2ms/step - loss: 0.0866 - accuracy: 0.9690\n",
      "Epoch 19/100\n",
      "59/59 [==============================] - 0s 2ms/step - loss: 0.0932 - accuracy: 0.9625\n",
      "Epoch 20/100\n",
      "59/59 [==============================] - 0s 2ms/step - loss: 0.1075 - accuracy: 0.9514\n",
      "Epoch 21/100\n",
      "59/59 [==============================] - 0s 2ms/step - loss: 0.0810 - accuracy: 0.9707\n",
      "Epoch 22/100\n",
      "59/59 [==============================] - 0s 2ms/step - loss: 0.0837 - accuracy: 0.9735\n",
      "Epoch 23/100\n",
      "59/59 [==============================] - 0s 1ms/step - loss: 0.0917 - accuracy: 0.9651\n",
      "Epoch 24/100\n",
      "59/59 [==============================] - 0s 1ms/step - loss: 0.0742 - accuracy: 0.9765\n",
      "Epoch 25/100\n",
      "59/59 [==============================] - 0s 2ms/step - loss: 0.0712 - accuracy: 0.9781\n",
      "Epoch 26/100\n",
      "59/59 [==============================] - 0s 2ms/step - loss: 0.0888 - accuracy: 0.9732\n",
      "Epoch 27/100\n",
      "59/59 [==============================] - 0s 2ms/step - loss: 0.1144 - accuracy: 0.9522\n",
      "Epoch 28/100\n",
      "59/59 [==============================] - 0s 1ms/step - loss: 0.0775 - accuracy: 0.9681\n",
      "Epoch 29/100\n",
      "59/59 [==============================] - 0s 2ms/step - loss: 0.0846 - accuracy: 0.9730\n",
      "Epoch 30/100\n",
      "59/59 [==============================] - 0s 2ms/step - loss: 0.0721 - accuracy: 0.9797\n",
      "Epoch 31/100\n",
      "59/59 [==============================] - 0s 2ms/step - loss: 0.1156 - accuracy: 0.9612\n",
      "Epoch 32/100\n",
      "59/59 [==============================] - 0s 2ms/step - loss: 0.0746 - accuracy: 0.9691\n",
      "Epoch 33/100\n",
      "59/59 [==============================] - 0s 1ms/step - loss: 0.0607 - accuracy: 0.9798\n",
      "Epoch 34/100\n",
      "59/59 [==============================] - 0s 2ms/step - loss: 0.0641 - accuracy: 0.9807\n",
      "Epoch 35/100\n",
      "59/59 [==============================] - 0s 2ms/step - loss: 0.0809 - accuracy: 0.9714\n",
      "Epoch 36/100\n",
      "59/59 [==============================] - 0s 2ms/step - loss: 0.0833 - accuracy: 0.9698\n",
      "Epoch 37/100\n",
      "59/59 [==============================] - 0s 2ms/step - loss: 0.0806 - accuracy: 0.9692\n",
      "Epoch 38/100\n",
      "59/59 [==============================] - 0s 2ms/step - loss: 0.1087 - accuracy: 0.9686\n",
      "Epoch 39/100\n",
      "59/59 [==============================] - 0s 2ms/step - loss: 0.0825 - accuracy: 0.9694\n",
      "Epoch 40/100\n",
      "59/59 [==============================] - 0s 2ms/step - loss: 0.0657 - accuracy: 0.9809\n",
      "Epoch 41/100\n",
      "59/59 [==============================] - 0s 2ms/step - loss: 0.1242 - accuracy: 0.9586\n",
      "Epoch 42/100\n",
      "59/59 [==============================] - 0s 2ms/step - loss: 0.1062 - accuracy: 0.9634\n",
      "Epoch 43/100\n",
      "59/59 [==============================] - 0s 2ms/step - loss: 0.1030 - accuracy: 0.9698\n",
      "Epoch 44/100\n",
      "59/59 [==============================] - 0s 2ms/step - loss: 0.0730 - accuracy: 0.9773\n",
      "Epoch 45/100\n",
      "59/59 [==============================] - 0s 2ms/step - loss: 0.0652 - accuracy: 0.9800\n",
      "Epoch 46/100\n",
      "59/59 [==============================] - 0s 1ms/step - loss: 0.1165 - accuracy: 0.9634\n",
      "Epoch 47/100\n",
      "59/59 [==============================] - 0s 2ms/step - loss: 0.0723 - accuracy: 0.9711\n",
      "Epoch 48/100\n",
      "59/59 [==============================] - 0s 1ms/step - loss: 0.0845 - accuracy: 0.9695\n",
      "Epoch 49/100\n",
      "59/59 [==============================] - 0s 1ms/step - loss: 0.0863 - accuracy: 0.9708\n",
      "Epoch 50/100\n",
      "59/59 [==============================] - 0s 1ms/step - loss: 0.0749 - accuracy: 0.9735\n",
      "Epoch 51/100\n",
      "59/59 [==============================] - 0s 1ms/step - loss: 0.0876 - accuracy: 0.9651\n",
      "Epoch 52/100\n",
      "59/59 [==============================] - 0s 2ms/step - loss: 0.0815 - accuracy: 0.9725\n",
      "Epoch 53/100\n",
      "59/59 [==============================] - 0s 2ms/step - loss: 0.0795 - accuracy: 0.9655\n",
      "Epoch 54/100\n",
      "59/59 [==============================] - 0s 2ms/step - loss: 0.0625 - accuracy: 0.9830\n",
      "Epoch 55/100\n",
      "59/59 [==============================] - 0s 2ms/step - loss: 0.0741 - accuracy: 0.9749\n",
      "Epoch 56/100\n",
      "59/59 [==============================] - 0s 2ms/step - loss: 0.0556 - accuracy: 0.9808\n",
      "Epoch 57/100\n",
      "59/59 [==============================] - 0s 1ms/step - loss: 0.0770 - accuracy: 0.9738\n",
      "Epoch 58/100\n",
      "59/59 [==============================] - 0s 1ms/step - loss: 0.0698 - accuracy: 0.9750\n",
      "Epoch 59/100\n",
      "59/59 [==============================] - 0s 1ms/step - loss: 0.0630 - accuracy: 0.9799\n",
      "Epoch 60/100\n",
      "59/59 [==============================] - 0s 1ms/step - loss: 0.0788 - accuracy: 0.9746\n",
      "Epoch 61/100\n",
      "59/59 [==============================] - 0s 1ms/step - loss: 0.0923 - accuracy: 0.9657\n",
      "Epoch 62/100\n",
      "59/59 [==============================] - 0s 1ms/step - loss: 0.0955 - accuracy: 0.9644\n",
      "Epoch 63/100\n",
      "59/59 [==============================] - 0s 1ms/step - loss: 0.0596 - accuracy: 0.9802\n",
      "Epoch 64/100\n",
      "59/59 [==============================] - 0s 1ms/step - loss: 0.0599 - accuracy: 0.9832\n",
      "Epoch 65/100\n",
      "59/59 [==============================] - 0s 1ms/step - loss: 0.0752 - accuracy: 0.9793\n",
      "Epoch 66/100\n",
      "59/59 [==============================] - 0s 2ms/step - loss: 0.0667 - accuracy: 0.9827\n",
      "Epoch 67/100\n",
      "59/59 [==============================] - 0s 1ms/step - loss: 0.0887 - accuracy: 0.9702\n",
      "Epoch 68/100\n",
      "59/59 [==============================] - 0s 1ms/step - loss: 0.0632 - accuracy: 0.9704\n",
      "Epoch 69/100\n",
      "59/59 [==============================] - 0s 1ms/step - loss: 0.0649 - accuracy: 0.9820\n",
      "Epoch 70/100\n",
      "59/59 [==============================] - 0s 1ms/step - loss: 0.0665 - accuracy: 0.9841\n",
      "Epoch 71/100\n",
      "59/59 [==============================] - 0s 1ms/step - loss: 0.0581 - accuracy: 0.9802\n",
      "Epoch 72/100\n",
      "59/59 [==============================] - 0s 1ms/step - loss: 0.0658 - accuracy: 0.9704\n",
      "Epoch 73/100\n",
      "59/59 [==============================] - 0s 1ms/step - loss: 0.0615 - accuracy: 0.9821\n",
      "Epoch 74/100\n",
      "59/59 [==============================] - 0s 1ms/step - loss: 0.0730 - accuracy: 0.9740\n",
      "Epoch 75/100\n",
      "59/59 [==============================] - 0s 1ms/step - loss: 0.0691 - accuracy: 0.9745\n",
      "Epoch 76/100\n",
      "59/59 [==============================] - 0s 1ms/step - loss: 0.0902 - accuracy: 0.9642\n",
      "Epoch 77/100\n",
      "59/59 [==============================] - 0s 1ms/step - loss: 0.0733 - accuracy: 0.9744\n",
      "Epoch 78/100\n",
      "59/59 [==============================] - 0s 1ms/step - loss: 0.0686 - accuracy: 0.9751\n",
      "Epoch 79/100\n",
      "59/59 [==============================] - 0s 1ms/step - loss: 0.0766 - accuracy: 0.9747\n",
      "Epoch 80/100\n",
      "59/59 [==============================] - 0s 1ms/step - loss: 0.0797 - accuracy: 0.9730\n",
      "Epoch 81/100\n",
      "59/59 [==============================] - 0s 1ms/step - loss: 0.0736 - accuracy: 0.9713\n",
      "Epoch 82/100\n",
      "59/59 [==============================] - 0s 1ms/step - loss: 0.0802 - accuracy: 0.9714\n",
      "Epoch 83/100\n",
      "59/59 [==============================] - 0s 1ms/step - loss: 0.0640 - accuracy: 0.9824\n",
      "Epoch 84/100\n",
      "59/59 [==============================] - 0s 1ms/step - loss: 0.0850 - accuracy: 0.9664\n",
      "Epoch 85/100\n",
      "59/59 [==============================] - 0s 1ms/step - loss: 0.0768 - accuracy: 0.9788\n",
      "Epoch 86/100\n",
      "59/59 [==============================] - 0s 1ms/step - loss: 0.0613 - accuracy: 0.9816\n",
      "Epoch 87/100\n",
      "59/59 [==============================] - 0s 1ms/step - loss: 0.0666 - accuracy: 0.9707\n",
      "Epoch 88/100\n",
      "59/59 [==============================] - 0s 1ms/step - loss: 0.0762 - accuracy: 0.9743\n",
      "Epoch 89/100\n",
      "59/59 [==============================] - 0s 1ms/step - loss: 0.0691 - accuracy: 0.9764\n",
      "Epoch 90/100\n",
      "59/59 [==============================] - 0s 1ms/step - loss: 0.0632 - accuracy: 0.9741\n",
      "Epoch 91/100\n",
      "59/59 [==============================] - 0s 2ms/step - loss: 0.0720 - accuracy: 0.9761\n",
      "Epoch 92/100\n",
      "59/59 [==============================] - 0s 1ms/step - loss: 0.0680 - accuracy: 0.9763\n",
      "Epoch 93/100\n",
      "59/59 [==============================] - 0s 1ms/step - loss: 0.0706 - accuracy: 0.9737\n",
      "Epoch 94/100\n",
      "59/59 [==============================] - 0s 1ms/step - loss: 0.0637 - accuracy: 0.9789\n",
      "Epoch 95/100\n",
      "59/59 [==============================] - 0s 1ms/step - loss: 0.0870 - accuracy: 0.9689\n",
      "Epoch 96/100\n",
      "59/59 [==============================] - 0s 1ms/step - loss: 0.0552 - accuracy: 0.9796\n",
      "Epoch 97/100\n",
      "59/59 [==============================] - 0s 1ms/step - loss: 0.0751 - accuracy: 0.9760\n",
      "Epoch 98/100\n",
      "59/59 [==============================] - 0s 1ms/step - loss: 0.0936 - accuracy: 0.9725\n",
      "Epoch 99/100\n",
      "59/59 [==============================] - 0s 1ms/step - loss: 0.0525 - accuracy: 0.9799\n",
      "Epoch 100/100\n",
      "59/59 [==============================] - 0s 1ms/step - loss: 0.0667 - accuracy: 0.9771\n"
     ]
    },
    {
     "data": {
      "text/plain": [
       "<tensorflow.python.keras.callbacks.History at 0x7f89704ecac8>"
      ]
     },
     "execution_count": 22,
     "metadata": {
      "tags": []
     },
     "output_type": "execute_result"
    }
   ],
   "source": [
    "#MLP\n",
    "\n",
    "model = Sequential()\n",
    "model.add(Dense(50, input_dim=7, activation='relu'))\n",
    "model.add(Dense(1, activation='sigmoid'))\n",
    "\n",
    "model.compile(loss='binary_crossentropy', optimizer='adam', metrics=['accuracy'])\n",
    "model.fit(x_train, y_train, epochs=100, batch_size=10)"
   ]
  },
  {
   "cell_type": "code",
   "execution_count": null,
   "metadata": {
    "colab": {
     "base_uri": "https://localhost:8080/"
    },
    "executionInfo": {
     "elapsed": 3008,
     "status": "ok",
     "timestamp": 1611602729387,
     "user": {
      "displayName": "Rohith Teja",
      "photoUrl": "https://lh3.googleusercontent.com/-nt8x4joQmgY/AAAAAAAAAAI/AAAAAAAAAvg/AbgIIUozOq0/s64/photo.jpg",
      "userId": "01155222072916958278"
     },
     "user_tz": -60
    },
    "id": "49K-IMU3rhpA",
    "outputId": "a9b25351-b4f8-4c1d-d6f2-c6864553cb1a"
   },
   "outputs": [
    {
     "name": "stdout",
     "output_type": "stream",
     "text": [
      "Model train accuracy score: 0.9777\n",
      "              precision    recall  f1-score   support\n",
      "\n",
      "           0       0.98      0.98      0.98        85\n",
      "           1       0.89      0.89      0.89        18\n",
      "\n",
      "    accuracy                           0.96       103\n",
      "   macro avg       0.93      0.93      0.93       103\n",
      "weighted avg       0.96      0.96      0.96       103\n",
      "\n"
     ]
    },
    {
     "name": "stderr",
     "output_type": "stream",
     "text": [
      "/usr/local/lib/python3.6/dist-packages/tensorflow/python/keras/engine/sequential.py:450: UserWarning: `model.predict_classes()` is deprecated and will be removed after 2021-01-01. Please use instead:* `np.argmax(model.predict(x), axis=-1)`,   if your model does multi-class classification   (e.g. if it uses a `softmax` last-layer activation).* `(model.predict(x) > 0.5).astype(\"int32\")`,   if your model does binary classification   (e.g. if it uses a `sigmoid` last-layer activation).\n",
      "  warnings.warn('`model.predict_classes()` is deprecated and '\n"
     ]
    }
   ],
   "source": [
    "y_pred_train = model.predict_classes(x_train)\n",
    "y_pred_test = model.predict_classes(x_test)\n",
    "print('Model train accuracy score: {0:0.4f}'. format(accuracy_score(y_train, y_pred_train)))\n",
    "print(classification_report(y_test, y_pred_test))"
   ]
  },
  {
   "cell_type": "code",
   "execution_count": null,
   "metadata": {
    "id": "hRtUJFGskM3R"
   },
   "outputs": [],
   "source": []
  },
  {
   "cell_type": "code",
   "execution_count": null,
   "metadata": {
    "colab": {
     "base_uri": "https://localhost:8080/",
     "height": 401
    },
    "executionInfo": {
     "elapsed": 2671,
     "status": "ok",
     "timestamp": 1611605223579,
     "user": {
      "displayName": "Rohith Teja",
      "photoUrl": "https://lh3.googleusercontent.com/-nt8x4joQmgY/AAAAAAAAAAI/AAAAAAAAAvg/AbgIIUozOq0/s64/photo.jpg",
      "userId": "01155222072916958278"
     },
     "user_tz": -60
    },
    "id": "APLyft9SvPTp",
    "outputId": "6bf6724e-f3fe-44e7-86aa-ef247230ee66"
   },
   "outputs": [
    {
     "name": "stdout",
     "output_type": "stream",
     "text": [
      "[t-SNE] Computing 121 nearest neighbors...\n",
      "[t-SNE] Indexed 686 samples in 0.001s...\n",
      "[t-SNE] Computed neighbors for 686 samples in 0.028s...\n",
      "[t-SNE] Computed conditional probabilities for sample 686 / 686\n",
      "[t-SNE] Mean sigma: 0.550280\n",
      "[t-SNE] KL divergence after 250 iterations with early exaggeration: 60.766052\n",
      "[t-SNE] KL divergence after 300 iterations: 0.661268\n"
     ]
    },
    {
     "data": {
      "text/plain": [
       "<matplotlib.collections.PathCollection at 0x7f8966a19978>"
      ]
     },
     "execution_count": 25,
     "metadata": {
      "tags": []
     },
     "output_type": "execute_result"
    },
    {
     "data": {
      "image/png": "[encoded data removed]",
      "text/plain": [
       "<Figure size 432x288 with 1 Axes>"
      ]
     },
     "metadata": {
      "needs_background": "light",
      "tags": []
     },
     "output_type": "display_data"
    }
   ],
   "source": [
    "from sklearn.manifold import TSNE\n",
    "import matplotlib.pyplot as plt\n",
    "\n",
    "tsne = TSNE(n_components=2, verbose=1, perplexity=40, n_iter=300)\n",
    "tsne_results = tsne.fit_transform(X_selected)\n",
    "\n",
    "a = tsne_results[:,0]\n",
    "b = tsne_results[:,1]\n",
    "plt.scatter(a,b,c=y,s=10)"
   ]
  },
  {
   "cell_type": "code",
   "execution_count": null,
   "metadata": {
    "colab": {
     "base_uri": "https://localhost:8080/",
     "height": 265
    },
    "executionInfo": {
     "elapsed": 1136,
     "status": "ok",
     "timestamp": 1611606629340,
     "user": {
      "displayName": "Rohith Teja",
      "photoUrl": "https://lh3.googleusercontent.com/-nt8x4joQmgY/AAAAAAAAAAI/AAAAAAAAAvg/AbgIIUozOq0/s64/photo.jpg",
      "userId": "01155222072916958278"
     },
     "user_tz": -60
    },
    "id": "khvj54AzvPWI",
    "outputId": "cf459669-dc3e-4586-8f31-58093d83efcf"
   },
   "outputs": [
    {
     "data": {
      "image/png": "[encoded data removed]",
      "text/plain": [
       "<Figure size 432x288 with 1 Axes>"
      ]
     },
     "metadata": {
      "needs_background": "light",
      "tags": []
     },
     "output_type": "display_data"
    }
   ],
   "source": [
    "df = pd.DataFrame()\n",
    "df[\"a\"] = a\n",
    "df[\"b\"] = b\n",
    "df[\"y\"] = y\n",
    "\n",
    "aa = df[df.y==0]\n",
    "bb = df[df.y==1]\n",
    "\n",
    "plt.scatter(aa.a,aa.b,c=\"b\",s=10,label=\"not-spam\")\n",
    "plt.scatter(bb.a,bb.b,c=\"r\",s=10,label=\"spam\")\n",
    "plt.legend()\n",
    "plt.savefig(\"tsnec2\", bbox_inches='tight',dpi = 200)"
   ]
  },
  {
   "cell_type": "code",
   "execution_count": null,
   "metadata": {
    "id": "6TR5Aw8evPYg"
   },
   "outputs": [],
   "source": []
  },
  {
   "cell_type": "code",
   "execution_count": null,
   "metadata": {
    "id": "EY8dAP9KvPbD"
   },
   "outputs": [],
   "source": []
  },
  {
   "cell_type": "code",
   "execution_count": null,
   "metadata": {
    "id": "s_EvbPSdvPdK"
   },
   "outputs": [],
   "source": []
  },
  {
   "cell_type": "code",
   "execution_count": null,
   "metadata": {
    "id": "K7K-UH4GvPfo"
   },
   "outputs": [],
   "source": []
  },
  {
   "cell_type": "code",
   "execution_count": null,
   "metadata": {
    "id": "EQpCEQQivPh7"
   },
   "outputs": [],
   "source": []
  }
 ],
 "metadata": {
  "colab": {
   "authorship_tag": "ABX9TyNZAy/WUeMivvrihXu4owAb",
   "collapsed_sections": [],
   "mount_file_id": "1iAO7kJ2ECqYDrZ7yTo0LUL4EslFy33Jz",
   "name": "Social_spam_Case_2.ipynb",
   "provenance": []
  },
  "kernelspec": {
   "display_name": "Python 3",
   "language": "python",
   "name": "python3"
  },
  "language_info": {
   "codemirror_mode": {
    "name": "ipython",
    "version": 3
   },
   "file_extension": ".py",
   "mimetype": "text/x-python",
   "name": "python",
   "nbconvert_exporter": "python",
   "pygments_lexer": "ipython3",
   "version": "3.8.3"
  }
 },
 "nbformat": 4,
 "nbformat_minor": 1
}
